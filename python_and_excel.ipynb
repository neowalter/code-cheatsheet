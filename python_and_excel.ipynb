{
  "nbformat": 4,
  "nbformat_minor": 0,
  "metadata": {
    "colab": {
      "name": "python and excel.ipynb",
      "provenance": [],
      "collapsed_sections": [],
      "authorship_tag": "ABX9TyNOH472setmk2IEQukvYKeo"
    },
    "kernelspec": {
      "name": "python3",
      "display_name": "Python 3"
    }
  },
  "cells": [
    {
      "cell_type": "code",
      "metadata": {
        "id": "Qv2xb6MvPHCu",
        "colab_type": "code",
        "colab": {}
      },
      "source": [
        "import pandas as pd\n",
        "import numpy as np\n",
        "from openpyxl.workbook import workbook"
      ],
      "execution_count": 0,
      "outputs": []
    },
    {
      "cell_type": "code",
      "metadata": {
        "id": "7U1oefglPxJM",
        "colab_type": "code",
        "colab": {
          "base_uri": "https://localhost:8080/",
          "height": 34
        },
        "outputId": "1dda8f78-6f41-4a6b-a988-7a37d7141b48"
      },
      "source": [
        "%ls"
      ],
      "execution_count": 2,
      "outputs": [
        {
          "output_type": "stream",
          "text": [
            "\u001b[0m\u001b[01;34msample_data\u001b[0m/\n"
          ],
          "name": "stdout"
        }
      ]
    },
    {
      "cell_type": "code",
      "metadata": {
        "id": "0R3MJtUuQFPy",
        "colab_type": "code",
        "colab": {}
      },
      "source": [
        "df_excel = pd.read_excel('test.xlsx', header=None)\n",
        "df_excel.columns = ['test1', 'test2', 'test3']\n",
        "df_excel.to_csv('test0.csv')"
      ],
      "execution_count": 0,
      "outputs": []
    },
    {
      "cell_type": "code",
      "metadata": {
        "id": "sREDVxBERAaK",
        "colab_type": "code",
        "colab": {}
      },
      "source": [
        "wanted =df_excel[['test1', 'test2']]\n",
        "stored = wanted.to_csv('test00.csv', index=None)"
      ],
      "execution_count": 0,
      "outputs": []
    },
    {
      "cell_type": "code",
      "metadata": {
        "id": "iENpYd0LSSzl",
        "colab_type": "code",
        "colab": {}
      },
      "source": [
        "print9(df_excel.loc[df_excel['test1'] == 'Test1') & (df_excel['test2'] == 'Test2')])"
      ],
      "execution_count": 0,
      "outputs": []
    },
    {
      "cell_type": "code",
      "metadata": {
        "id": "2-uAos2cTczx",
        "colab_type": "code",
        "colab": {}
      },
      "source": [
        "df_excel['test4'] = df_excel['test2'].apply(lambda X : .1 if 1 < x < 2 else .2 if 2 < x < 3 else .3) "
      ],
      "execution_count": 0,
      "outputs": []
    },
    {
      "cell_type": "code",
      "metadata": {
        "id": "3YoKHyF0UTxo",
        "colab_type": "code",
        "colab": {}
      },
      "source": [
        "to_drop = ['test1', 'test2']\n",
        "df_excel.drop(columns=to_drop, inplace=True)\n",
        "\n",
        "df_excel['TEST'] = False\n",
        "df_excel.loc[df_excel['test4'] < .3, 'TEST'] = True\n",
        "\n",
        "print(df_excel.groupby(['TEST']).mean().sort_values('test4'))\n"
      ],
      "execution_count": 0,
      "outputs": []
    },
    {
      "cell_type": "code",
      "metadata": {
        "id": "GKC_1qVSWPuD",
        "colab_type": "code",
        "colab": {}
      },
      "source": [
        "from openpyxl import load_workbook\n",
        "\n",
        "wb = Workbook()\n",
        "ws = wb.active\n",
        "\n",
        "ws1 = wb.create_sheet('00')\n",
        "ws2 = wb.create_sheet('01',0)\n",
        "ws.title = '02'\n",
        "\n",
        "print(wb.sheetnames)"
      ],
      "execution_count": 0,
      "outputs": []
    },
    {
      "cell_type": "code",
      "metadata": {
        "id": "Q3Q1zL_WYjH2",
        "colab_type": "code",
        "colab": {}
      },
      "source": [
        "wb2 = load_workbook('test.xlsx')\n",
        "active_sheet = wb2.active"
      ],
      "execution_count": 0,
      "outputs": []
    },
    {
      "cell_type": "code",
      "metadata": {
        "id": "txjQwkXvZLjg",
        "colab_type": "code",
        "colab": {}
      },
      "source": [
        "cell = active_sheet['A1']\n",
        "print(cell)\n",
        "print(cell.value)"
      ],
      "execution_count": 0,
      "outputs": []
    },
    {
      "cell_type": "code",
      "metadata": {
        "id": "FtVpAbMSZqTO",
        "colab_type": "code",
        "colab": {}
      },
      "source": [
        "active_sheet['A1'] = 0\n",
        "wb2.save('TESt.xlsx')"
      ],
      "execution_count": 0,
      "outputs": []
    },
    {
      "cell_type": "code",
      "metadata": {
        "id": "mx6bwdwZZ5T8",
        "colab_type": "code",
        "colab": {}
      },
      "source": [
        "cell_range = ws['A1':'C1']\n",
        "col_c = ws['C']\n",
        "print(col_c)"
      ],
      "execution_count": 0,
      "outputs": []
    },
    {
      "cell_type": "code",
      "metadata": {
        "id": "gGIlOaBwalV_",
        "colab_type": "code",
        "colab": {}
      },
      "source": [
        "row_range = ws[1:5]\n"
      ],
      "execution_count": 0,
      "outputs": []
    },
    {
      "cell_type": "code",
      "metadata": {
        "id": "gHRsJYzCa4AO",
        "colab_type": "code",
        "colab": {}
      },
      "source": [
        "for row in ws.iter_rows(min_row=1, max_col=3, max_row=2, values_only=True): \n",
        "    for cell in row:\n",
        "        print(cell)"
      ],
      "execution_count": 0,
      "outputs": []
    },
    {
      "cell_type": "code",
      "metadata": {
        "id": "aB7KPphibZoA",
        "colab_type": "code",
        "colab": {}
      },
      "source": [
        "from openpyxl.styles import Font, Color, colors, Alignment, PatternFill, GradientFill, Border, Side\n",
        "from openpyxl.styles import NamedStyle"
      ],
      "execution_count": 0,
      "outputs": []
    },
    {
      "cell_type": "code",
      "metadata": {
        "id": "MNiKgGaKbvji",
        "colab_type": "code",
        "colab": {}
      },
      "source": [
        "wb = Workbook()\n",
        "ws = wb.active"
      ],
      "execution_count": 0,
      "outputs": []
    },
    {
      "cell_type": "code",
      "metadata": {
        "id": "dHi8fa67b1ke",
        "colab_type": "code",
        "colab": {}
      },
      "source": [
        "for i in range(1.20):\n",
        "    ws.append(range(300))"
      ],
      "execution_count": 0,
      "outputs": []
    },
    {
      "cell_type": "code",
      "metadata": {
        "id": "TKAg9NA8b_v4",
        "colab_type": "code",
        "colab": {}
      },
      "source": [
        "ws.merge_cells(\"A1:B5\")\n",
        "ws.unmerge_cells(\"A1:B5\")\n",
        "ws.merge_cells(start_row=2, start_column=2, end_row=5, end_column=5)"
      ],
      "execution_count": 0,
      "outputs": []
    },
    {
      "cell_type": "code",
      "metadata": {
        "id": "CROoI6wlcex5",
        "colab_type": "code",
        "colab": {}
      },
      "source": [
        "cell = ws['B2']\n",
        "cell.font = Font(color=%colors.RED, size=20, italic=True)\n",
        "cell.value =\"Merged Cell\"\n",
        "cell.alignment = Alignment(horizontal='right', vertical='bottom')\n",
        "cell.fill = GradientFill(stop=(\"000000\",\"FFFFFF\"))\n",
        "wb.save('test.xlsx')"
      ],
      "execution_count": 0,
      "outputs": []
    },
    {
      "cell_type": "code",
      "metadata": {
        "id": "bmwJ6XOcduhb",
        "colab_type": "code",
        "colab": {}
      },
      "source": [
        "highlight = NamedStyle(name='highlight')\n",
        "highlight.font = Font(bold=True)\n",
        "bd = Side(style='thick', color='000000')\n",
        "highlight.border =  Border(left=bd, top=bd, right=bd, bottom=bd)\n",
        "highlight.fill = PatternFill('solid', fgColor='FFFF00')\n"
      ],
      "execution_count": 0,
      "outputs": []
    },
    {
      "cell_type": "code",
      "metadata": {
        "id": "QpRyBXbTel63",
        "colab_type": "code",
        "colab": {}
      },
      "source": [
        "count = 0\n",
        "for col in ws.iter_cols(min_col=8, min_row=1, max_col=30, max_row=30):\n",
        "    col[count].style = highlight\n",
        "    count = count + 1\n",
        "wb.save('highlight.xlsx')"
      ],
      "execution_count": 0,
      "outputs": []
    },
    {
      "cell_type": "code",
      "metadata": {
        "id": "8eixqwh6fUqM",
        "colab_type": "code",
        "colab": {}
      },
      "source": [
        "from openpyxl.chart import PieChart, Reference, Series, PieChart3D\n",
        "from openpyxl.workbook import workbook\n",
        "import openpyxl"
      ],
      "execution_count": 0,
      "outputs": []
    },
    {
      "cell_type": "code",
      "metadata": {
        "id": "GsLpZcjegUHN",
        "colab_type": "code",
        "colab": {}
      },
      "source": [
        "wb = openpyxl.Workbook()\n",
        "ws = wb.active"
      ],
      "execution_count": 0,
      "outputs": []
    },
    {
      "cell_type": "code",
      "metadata": {
        "id": "fEk7kSjCgVGg",
        "colab_type": "code",
        "colab": {}
      },
      "source": [
        "data = [\n",
        "    ['a','b'],\n",
        "    ['a1', 1],\n",
        "    ['a2', 2],\n",
        "    ['a3', 3],\n",
        "    ['a4', 4]\n",
        "]"
      ],
      "execution_count": 0,
      "outputs": []
    },
    {
      "cell_type": "code",
      "metadata": {
        "id": "itjNu9e4gt4S",
        "colab_type": "code",
        "colab": {}
      },
      "source": [
        "for rows in data:\n",
        "    ws.append(rows)"
      ],
      "execution_count": 0,
      "outputs": []
    },
    {
      "cell_type": "code",
      "metadata": {
        "id": "CowGaPeKgBEC",
        "colab_type": "code",
        "colab": {}
      },
      "source": [
        "chart = PieChart()\n",
        "labels = Reference(ws, min_col=1, min_row=2, max_row=5)\n",
        "data = Reference(ws, min_col=2, min_row=1, max_row=5)\n",
        "chart.add_data(data, titles_from_data=True)\n",
        "chart.set_categories(labels)\n",
        "chart.title = 'test'\n",
        "\n",
        "ws.add_chart(chart,'C1')\n",
        "wb.save('test.xlsx')"
      ],
      "execution_count": 0,
      "outputs": []
    },
    {
      "cell_type": "code",
      "metadata": {
        "id": "Wuyccc09iy4Y",
        "colab_type": "code",
        "colab": {}
      },
      "source": [
        "from openpyxl.worksheet.table import  Table, TableStyleInfo\n",
        "from openpyxl.drawing.image import  Image\n",
        "from openpyxl import load_workbook"
      ],
      "execution_count": 0,
      "outputs": []
    },
    {
      "cell_type": "code",
      "metadata": {
        "id": "aYifL6sNjLHR",
        "colab_type": "code",
        "colab": {}
      },
      "source": [
        "wb = load_workbook('test.xlsx')\n",
        "ws = wb.active"
      ],
      "execution_count": 0,
      "outputs": []
    },
    {
      "cell_type": "code",
      "metadata": {
        "id": "KEvKCrdyjeax",
        "colab_type": "code",
        "colab": {}
      },
      "source": [
        "tab = Table(displayName='Table1', ref='A1:B5')\n",
        "style = TableStyleInfo(name='TableStyleMedium9', showFirstColumn=False, showLastColumn=False, showRowStripes=True, showColumnStripes=True,)"
      ],
      "execution_count": 0,
      "outputs": []
    },
    {
      "cell_type": "code",
      "metadata": {
        "id": "yIksf5TXkV_Y",
        "colab_type": "code",
        "colab": {}
      },
      "source": [
        "tab.tableStyleInfo = style \n",
        "ws.add_table(tab)\n",
        "wb.save('testtable.xlsx')"
      ],
      "execution_count": 0,
      "outputs": []
    },
    {
      "cell_type": "code",
      "metadata": {
        "id": "str53vbgk91c",
        "colab_type": "code",
        "colab": {}
      },
      "source": [
        "img =Image('test.jpg')\n",
        "img.height = img.height * .25\n",
        "img.width = img.width * .25\n",
        "ws.add_image(img, 'c1')\n",
        "wb.save('image.xlsx')\n",
        "\n"
      ],
      "execution_count": 0,
      "outputs": []
    },
    {
      "cell_type": "code",
      "metadata": {
        "id": "N2K-Y9jflyr8",
        "colab_type": "code",
        "colab": {}
      },
      "source": [
        "import pandas as pd\n",
        "from openpyxl import load_workbook\n",
        "from openpyxl.styles import Font\n",
        "\n",
        "df_1 = pd.read_excel('t.xlsx', sheet_name='sheet')\n",
        "df_2 = pd.read_excel('t.xlsx', sheet_name='sheet1')\n",
        "df_3 = pd.read_excel('t1.xlsx')\n",
        "df_all = pd.concat([df_1, df_2, df_3], sort=False)"
      ],
      "execution_count": 0,
      "outputs": []
    },
    {
      "cell_type": "code",
      "metadata": {
        "id": "N_VhO-FgmoQa",
        "colab_type": "code",
        "colab": {}
      },
      "source": [
        "to_excel = df_all.to_excel('all_shifts,xlsx', index=None)"
      ],
      "execution_count": 0,
      "outputs": []
    },
    {
      "cell_type": "code",
      "metadata": {
        "id": "Gjy0D2yLnTa6",
        "colab_type": "code",
        "colab": {}
      },
      "source": [
        "wb = load_workbook('all_shifts,xlsx')\n",
        "ws = wb.active"
      ],
      "execution_count": 0,
      "outputs": []
    },
    {
      "cell_type": "code",
      "metadata": {
        "id": "dkeyuC6ancRz",
        "colab_type": "code",
        "colab": {}
      },
      "source": [
        "total_col = ws['G1']\n",
        "total_col.font = font(bold=True)\n",
        "total_col.value = 'Total'"
      ],
      "execution_count": 0,
      "outputs": []
    },
    {
      "cell_type": "code",
      "metadata": {
        "id": "6VVHNfKun1rX",
        "colab_type": "code",
        "colab": {}
      },
      "source": [
        "e_col, f_col = ['E', 'F']\n",
        "for row in range(2,300):\n",
        "    result_cell = 'G{}'.format(row)\n",
        "    e_value = ws[e_col + str(row)].value\n",
        "    f_value = ws[f_col + str(row)].value\n",
        "    ws[result_cell] = e_value * f_value"
      ],
      "execution_count": 0,
      "outputs": []
    },
    {
      "cell_type": "code",
      "metadata": {
        "id": "R7Zl9pD0ocWK",
        "colab_type": "code",
        "colab": {}
      },
      "source": [
        "wb.save('total.xlsx')"
      ],
      "execution_count": 0,
      "outputs": []
    },
    {
      "cell_type": "code",
      "metadata": {
        "id": "OBQHYIQ5olFr",
        "colab_type": "code",
        "colab": {}
      },
      "source": [
        "import pandas as pd\n",
        "from openpyxl import load_workbook\n",
        "from openpyxl.utils.dataframe import dataframe_to_rows\n"
      ],
      "execution_count": 0,
      "outputs": []
    },
    {
      "cell_type": "code",
      "metadata": {
        "id": "D0Dwshq5o2rd",
        "colab_type": "code",
        "colab": {}
      },
      "source": [
        "wb =load_workbook('t.xlsx')\n",
        "ws = wb.active\n",
        "df = pd.read_excel('all.xlsx')\n",
        "df1 =df[['t1','t2','t3']]\n",
        "df1['t4'] = df1['t2'] * df1['t3']"
      ],
      "execution_count": 0,
      "outputs": []
    },
    {
      "cell_type": "code",
      "metadata": {
        "id": "S0lZ84wGpesi",
        "colab_type": "code",
        "colab": {}
      },
      "source": [
        "rows = dataframe_to_rows(df1, index=False)\n",
        "for r_idx, row in enumerate(rows,1):\n",
        "    for c_idx, col in enumerate(row,6):\n",
        "        ws.cell(row=r_idx, column=c_idx, value=col)\n",
        "\n",
        "wb.save('000.xlsx')"
      ],
      "execution_count": 0,
      "outputs": []
    },
    {
      "cell_type": "code",
      "metadata": {
        "id": "jRyzQlTQqkUu",
        "colab_type": "code",
        "colab": {}
      },
      "source": [
        "import pandas as pd\n",
        "from openpyxl import load_workbook\n",
        "from numpy import  np\n",
        "from openpyxl.utils.dataframe import dataframe_to_rows\n"
      ],
      "execution_count": 0,
      "outputs": []
    },
    {
      "cell_type": "code",
      "metadata": {
        "id": "stTbvmOGq5e0",
        "colab_type": "code",
        "colab": {}
      },
      "source": [
        "wb =load_workbook('t.xlsx')\n",
        "ws = wb.active"
      ],
      "execution_count": 0,
      "outputs": []
    },
    {
      "cell_type": "code",
      "metadata": {
        "id": "DxdyNZXfq8iJ",
        "colab_type": "code",
        "colab": {}
      },
      "source": [
        "df = pd.read_csv('t0.csv',encoding='utf-8', dtype={\"a1\":str, \"a2\":str, \"a3\":str, \"a4\":str, \"a5\":str, \"a6\":str, })"
      ],
      "execution_count": 0,
      "outputs": []
    },
    {
      "cell_type": "code",
      "metadata": {
        "id": "5CrQA16WrY2A",
        "colab_type": "code",
        "colab": {}
      },
      "source": [
        "df1 = df[df['a1'] == '1']\n",
        "df1 = df1.replace(np.nan, 'N/A', regex=True)\n",
        "\n",
        "df1['count'] =1\n",
        "df2 = df1.groupby(['a1', 'a2']).count()['count'].unstack(level=0)\n",
        "df2.drop(columns='N/A', inplace=True)\n"
      ],
      "execution_count": 0,
      "outputs": []
    },
    {
      "cell_type": "code",
      "metadata": {
        "id": "YVZt_QsGskRk",
        "colab_type": "code",
        "colab": {}
      },
      "source": [
        "rows = dataframe_to_rows(df2)\n",
        "for r_idx, row in enumerate(rows,8):\n",
        "    for c_idx, col in enumerate(row,1):\n",
        "        ws.cell(row=r_idx, column=c_idx, value=value)"
      ],
      "execution_count": 0,
      "outputs": []
    },
    {
      "cell_type": "code",
      "metadata": {
        "id": "VXzFkt36sy3t",
        "colab_type": "code",
        "colab": {}
      },
      "source": [
        "wb.save('report.xlsx')"
      ],
      "execution_count": 0,
      "outputs": []
    },
    {
      "cell_type": "code",
      "metadata": {
        "id": "lfiJZHm3s8np",
        "colab_type": "code",
        "colab": {}
      },
      "source": [
        "from openpyxl import load_workbook\n",
        "from openpyxl.chart import BarChart, PieChart, Series, Reference\n"
      ],
      "execution_count": 0,
      "outputs": []
    },
    {
      "cell_type": "code",
      "metadata": {
        "id": "gYzdvd-BtKfW",
        "colab_type": "code",
        "colab": {}
      },
      "source": [
        "wb =load_workbook('t.xlsx')\n",
        "ws = wb.active"
      ],
      "execution_count": 0,
      "outputs": []
    },
    {
      "cell_type": "code",
      "metadata": {
        "id": "wIylDuhBtNlD",
        "colab_type": "code",
        "colab": {}
      },
      "source": [
        "chart = BarChart()\n",
        "data = Reference(ws, min_col=1, min_row=8, max_col=13, max_row=13)\n",
        "labels = Reference(ws, min_col=2, min_row=8, max_col=13, max_row=8)\n",
        "chart.add_data(data,from_rows=True, titles_from_data=True)\n",
        "chart.set_categories(labels)\n",
        "chart.title = 'title'\n",
        "chart.height = 10\n",
        "chart.width = 20\n",
        "ws.add_chart(chart, 'B14')\n"
      ],
      "execution_count": 0,
      "outputs": []
    },
    {
      "cell_type": "code",
      "metadata": {
        "id": "q8OgZiAyvQVP",
        "colab_type": "code",
        "colab": {}
      },
      "source": [
        "chart1 = PieChart()\n",
        "data = Reference(ws, min_col=15, min_row=8, max_col=16, max_row=8)\n",
        "labels = Reference(ws, min_col=15, min_row=7, max_col=16, max_row=7)\n",
        "chart1.add_data(data,from_rows=True, titles_from_data=True)\n",
        "chart1.set_categories(labels)\n",
        "chart1.title = 'title1'\n",
        "chart1.height = 10\n",
        "chart1.width = 20\n",
        "ws.add_chart(chart1, 'N14')"
      ],
      "execution_count": 0,
      "outputs": []
    },
    {
      "cell_type": "code",
      "metadata": {
        "id": "gvjhrWd6vOpP",
        "colab_type": "code",
        "colab": {}
      },
      "source": [
        "wb.save('lines.xlsx')"
      ],
      "execution_count": 0,
      "outputs": []
    }
  ]
}