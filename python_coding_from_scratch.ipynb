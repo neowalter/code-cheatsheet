{
  "nbformat": 4,
  "nbformat_minor": 0,
  "metadata": {
    "colab": {
      "name": "python coding from scratch",
      "provenance": [],
      "collapsed_sections": [
        "fxivd6Bu8ryK",
        "VM2NZ4I79KdO",
        "-MKA3yRq-z9_",
        "MSjStJwTCOL8",
        "k1pLRPfqVyMT",
        "hAn1jlmdOX5-",
        "whkKDjZelzCi",
        "S1M9d-MbwsS6",
        "vRDL3ILC-efF",
        "6xVz7xrUhYB_",
        "i5h_EWB3NUPv"
      ],
      "authorship_tag": "ABX9TyM5IqOhj8ZZevyFIyRmZ7gB"
    },
    "kernelspec": {
      "name": "python3",
      "display_name": "Python 3"
    }
  },
  "cells": [
    {
      "cell_type": "markdown",
      "metadata": {
        "id": "fxivd6Bu8ryK",
        "colab_type": "text"
      },
      "source": [
        "# **basic strings**"
      ]
    },
    {
      "cell_type": "code",
      "metadata": {
        "id": "UmgVgIMA8-4a",
        "colab_type": "code",
        "colab": {
          "base_uri": "https://localhost:8080/",
          "height": 34
        },
        "outputId": "e1ee2f7b-fa13-4bd0-8ad9-7be9ca3af853"
      },
      "source": [
        "print('python')"
      ],
      "execution_count": null,
      "outputs": [
        {
          "output_type": "stream",
          "text": [
            "python\n"
          ],
          "name": "stdout"
        }
      ]
    },
    {
      "cell_type": "code",
      "metadata": {
        "id": "E7gNNkE68nvT",
        "colab_type": "code",
        "colab": {
          "base_uri": "https://localhost:8080/",
          "height": 34
        },
        "outputId": "b2e8eeb8-46d1-45e1-99aa-5f6c400062c8"
      },
      "source": [
        "print('\\tpython')"
      ],
      "execution_count": null,
      "outputs": [
        {
          "output_type": "stream",
          "text": [
            "\tpython\n"
          ],
          "name": "stdout"
        }
      ]
    },
    {
      "cell_type": "code",
      "metadata": {
        "id": "8wDSmeBD8565",
        "colab_type": "code",
        "colab": {
          "base_uri": "https://localhost:8080/",
          "height": 68
        },
        "outputId": "c13bc36d-348a-4aa4-b050-25e6bfb46728"
      },
      "source": [
        "print('\\npython\\n')"
      ],
      "execution_count": null,
      "outputs": [
        {
          "output_type": "stream",
          "text": [
            "\n",
            "python\n",
            "\n"
          ],
          "name": "stdout"
        }
      ]
    },
    {
      "cell_type": "markdown",
      "metadata": {
        "id": "VM2NZ4I79KdO",
        "colab_type": "text"
      },
      "source": [
        "# **basic function**"
      ]
    },
    {
      "cell_type": "code",
      "metadata": {
        "id": "5_PtW7Oj898s",
        "colab_type": "code",
        "colab": {
          "base_uri": "https://localhost:8080/",
          "height": 34
        },
        "outputId": "8ee2a02b-fc17-4a51-8a08-ba45a383f973"
      },
      "source": [
        "a = \"        here are some blanks       \"\n",
        "print(a)"
      ],
      "execution_count": null,
      "outputs": [
        {
          "output_type": "stream",
          "text": [
            "        here are some blanks       \n"
          ],
          "name": "stdout"
        }
      ]
    },
    {
      "cell_type": "code",
      "metadata": {
        "id": "ckcuHz5c9PJ6",
        "colab_type": "code",
        "colab": {
          "base_uri": "https://localhost:8080/",
          "height": 34
        },
        "outputId": "7faf4a01-1723-46fa-ee1f-ebdd1f29e2ce"
      },
      "source": [
        "print(a.rstrip())"
      ],
      "execution_count": null,
      "outputs": [
        {
          "output_type": "stream",
          "text": [
            "        here are some blanks\n"
          ],
          "name": "stdout"
        }
      ]
    },
    {
      "cell_type": "code",
      "metadata": {
        "id": "zlw32ulq9fu7",
        "colab_type": "code",
        "colab": {
          "base_uri": "https://localhost:8080/",
          "height": 34
        },
        "outputId": "c06efb3c-442a-4fb9-ede6-3f633c4d3ea6"
      },
      "source": [
        "print(a.lstrip())"
      ],
      "execution_count": null,
      "outputs": [
        {
          "output_type": "stream",
          "text": [
            "here are some blanks       \n"
          ],
          "name": "stdout"
        }
      ]
    },
    {
      "cell_type": "code",
      "metadata": {
        "id": "2QOgYCPq-CZE",
        "colab_type": "code",
        "colab": {
          "base_uri": "https://localhost:8080/",
          "height": 34
        },
        "outputId": "8eaa3445-122d-4690-e68e-9f8fc20b354d"
      },
      "source": [
        "print(a.strip())"
      ],
      "execution_count": null,
      "outputs": [
        {
          "output_type": "stream",
          "text": [
            "here are some blanks\n"
          ],
          "name": "stdout"
        }
      ]
    },
    {
      "cell_type": "markdown",
      "metadata": {
        "id": "-MKA3yRq-z9_",
        "colab_type": "text"
      },
      "source": [
        "# **basic math**"
      ]
    },
    {
      "cell_type": "code",
      "metadata": {
        "id": "DDYY1Bqa-znh",
        "colab_type": "code",
        "colab": {}
      },
      "source": [
        "a = 2\n",
        "b = 3\n",
        "c = 4 \n",
        "d = 5"
      ],
      "execution_count": null,
      "outputs": []
    },
    {
      "cell_type": "code",
      "metadata": {
        "id": "Jof6OFMe_BUr",
        "colab_type": "code",
        "colab": {
          "base_uri": "https://localhost:8080/",
          "height": 34
        },
        "outputId": "35e488ac-45e0-490f-ab04-3b065058fef7"
      },
      "source": [
        "f = a + b\n",
        "f"
      ],
      "execution_count": null,
      "outputs": [
        {
          "output_type": "execute_result",
          "data": {
            "text/plain": [
              "5"
            ]
          },
          "metadata": {
            "tags": []
          },
          "execution_count": 24
        }
      ]
    },
    {
      "cell_type": "code",
      "metadata": {
        "id": "6BnP7Thb_FON",
        "colab_type": "code",
        "colab": {
          "base_uri": "https://localhost:8080/",
          "height": 34
        },
        "outputId": "874f5a49-00f9-47a4-b57b-6ce4a056a9e7"
      },
      "source": [
        "f = a - b\n",
        "f"
      ],
      "execution_count": null,
      "outputs": [
        {
          "output_type": "execute_result",
          "data": {
            "text/plain": [
              "-1"
            ]
          },
          "metadata": {
            "tags": []
          },
          "execution_count": 25
        }
      ]
    },
    {
      "cell_type": "code",
      "metadata": {
        "id": "9aI-aTTb_Io0",
        "colab_type": "code",
        "colab": {
          "base_uri": "https://localhost:8080/",
          "height": 34
        },
        "outputId": "b8189a74-115f-4841-e904-07d8b0723b9d"
      },
      "source": [
        "f = a * b\n",
        "f"
      ],
      "execution_count": null,
      "outputs": [
        {
          "output_type": "execute_result",
          "data": {
            "text/plain": [
              "6"
            ]
          },
          "metadata": {
            "tags": []
          },
          "execution_count": 26
        }
      ]
    },
    {
      "cell_type": "code",
      "metadata": {
        "id": "B43v1nJ0_MuL",
        "colab_type": "code",
        "colab": {
          "base_uri": "https://localhost:8080/",
          "height": 34
        },
        "outputId": "672592c7-3e7d-4cb4-9682-d4ad68728302"
      },
      "source": [
        "f = a / b\n",
        "f"
      ],
      "execution_count": null,
      "outputs": [
        {
          "output_type": "execute_result",
          "data": {
            "text/plain": [
              "0.6666666666666666"
            ]
          },
          "metadata": {
            "tags": []
          },
          "execution_count": 27
        }
      ]
    },
    {
      "cell_type": "code",
      "metadata": {
        "id": "MVVJCKSJ_Pp3",
        "colab_type": "code",
        "colab": {
          "base_uri": "https://localhost:8080/",
          "height": 34
        },
        "outputId": "07b76b56-b453-4cde-eb9f-ee766acd8d1f"
      },
      "source": [
        "f = a ** 10\n",
        "f"
      ],
      "execution_count": null,
      "outputs": [
        {
          "output_type": "execute_result",
          "data": {
            "text/plain": [
              "1024"
            ]
          },
          "metadata": {
            "tags": []
          },
          "execution_count": 28
        }
      ]
    },
    {
      "cell_type": "code",
      "metadata": {
        "id": "k5RF9d7E_Vmv",
        "colab_type": "code",
        "colab": {
          "base_uri": "https://localhost:8080/",
          "height": 34
        },
        "outputId": "903dae99-973d-4bba-ef63-56bdb19e63eb"
      },
      "source": [
        "f = a + b*c\n",
        "f"
      ],
      "execution_count": null,
      "outputs": [
        {
          "output_type": "execute_result",
          "data": {
            "text/plain": [
              "14"
            ]
          },
          "metadata": {
            "tags": []
          },
          "execution_count": 29
        }
      ]
    },
    {
      "cell_type": "code",
      "metadata": {
        "id": "U2h6_VrK_hWM",
        "colab_type": "code",
        "colab": {
          "base_uri": "https://localhost:8080/",
          "height": 34
        },
        "outputId": "218d5fe7-a866-498a-df36-6dc858c43409"
      },
      "source": [
        "f = (a + b) * c\n",
        "f"
      ],
      "execution_count": null,
      "outputs": [
        {
          "output_type": "execute_result",
          "data": {
            "text/plain": [
              "20"
            ]
          },
          "metadata": {
            "tags": []
          },
          "execution_count": 30
        }
      ]
    },
    {
      "cell_type": "code",
      "metadata": {
        "id": "U0meqggv_zEG",
        "colab_type": "code",
        "colab": {
          "base_uri": "https://localhost:8080/",
          "height": 34
        },
        "outputId": "3004f13d-32cf-47b4-ffad-af5f91cbc73b"
      },
      "source": [
        "year = 2020\n",
        "sentence = str(year) + \" is a tough year\"\n",
        "print(sentence)"
      ],
      "execution_count": null,
      "outputs": [
        {
          "output_type": "stream",
          "text": [
            "2020 is a tough year\n"
          ],
          "name": "stdout"
        }
      ]
    },
    {
      "cell_type": "code",
      "metadata": {
        "id": "jgSV-rqQAF_6",
        "colab_type": "code",
        "colab": {
          "base_uri": "https://localhost:8080/",
          "height": 374
        },
        "outputId": "da84e66c-457d-4cb9-e93e-ff02795f84d9"
      },
      "source": [
        "import this"
      ],
      "execution_count": null,
      "outputs": [
        {
          "output_type": "stream",
          "text": [
            "The Zen of Python, by Tim Peters\n",
            "\n",
            "Beautiful is better than ugly.\n",
            "Explicit is better than implicit.\n",
            "Simple is better than complex.\n",
            "Complex is better than complicated.\n",
            "Flat is better than nested.\n",
            "Sparse is better than dense.\n",
            "Readability counts.\n",
            "Special cases aren't special enough to break the rules.\n",
            "Although practicality beats purity.\n",
            "Errors should never pass silently.\n",
            "Unless explicitly silenced.\n",
            "In the face of ambiguity, refuse the temptation to guess.\n",
            "There should be one-- and preferably only one --obvious way to do it.\n",
            "Although that way may not be obvious at first unless you're Dutch.\n",
            "Now is better than never.\n",
            "Although never is often better than *right* now.\n",
            "If the implementation is hard to explain, it's a bad idea.\n",
            "If the implementation is easy to explain, it may be a good idea.\n",
            "Namespaces are one honking great idea -- let's do more of those!\n"
          ],
          "name": "stdout"
        }
      ]
    },
    {
      "cell_type": "markdown",
      "metadata": {
        "id": "MSjStJwTCOL8",
        "colab_type": "text"
      },
      "source": [
        "# **list**"
      ]
    },
    {
      "cell_type": "code",
      "metadata": {
        "id": "um82c9rpA9sn",
        "colab_type": "code",
        "colab": {
          "base_uri": "https://localhost:8080/",
          "height": 34
        },
        "outputId": "d93cc07a-fab2-4248-c288-f6847f1d618f"
      },
      "source": [
        "classmates = ['Anna', 'Brown', 'Charlie', 'David', 'Eric', 'Felix', 'george']\n",
        "print(classmates[0])"
      ],
      "execution_count": null,
      "outputs": [
        {
          "output_type": "stream",
          "text": [
            "Anna\n"
          ],
          "name": "stdout"
        }
      ]
    },
    {
      "cell_type": "code",
      "metadata": {
        "id": "24Wf2fCdDOvF",
        "colab_type": "code",
        "colab": {
          "base_uri": "https://localhost:8080/",
          "height": 68
        },
        "outputId": "371fd45d-1804-442d-e76a-b5ec2e0db4b5"
      },
      "source": [
        "print(classmates[-1].title())\n",
        "print(classmates[1].upper())\n",
        "print(classmates[2].lower())"
      ],
      "execution_count": null,
      "outputs": [
        {
          "output_type": "stream",
          "text": [
            "George\n",
            "BROWN\n",
            "charlie\n"
          ],
          "name": "stdout"
        }
      ]
    },
    {
      "cell_type": "code",
      "metadata": {
        "id": "xbYXHXoaDnN-",
        "colab_type": "code",
        "colab": {
          "base_uri": "https://localhost:8080/",
          "height": 136
        },
        "outputId": "a15b4790-3b90-49d9-ec47-b4ddd4abaa39"
      },
      "source": [
        "for i in range(7):\n",
        "  print(classmates[i].title() + \" is my classmate\")"
      ],
      "execution_count": null,
      "outputs": [
        {
          "output_type": "stream",
          "text": [
            "Anna is my classmate\n",
            "Brown is my classmate\n",
            "Charlie is my classmate\n",
            "David is my classmate\n",
            "Eric is my classmate\n",
            "Felix is my classmate\n",
            "George is my classmate\n"
          ],
          "name": "stdout"
        }
      ]
    },
    {
      "cell_type": "code",
      "metadata": {
        "id": "3hESX1gjEoWg",
        "colab_type": "code",
        "colab": {
          "base_uri": "https://localhost:8080/",
          "height": 34
        },
        "outputId": "acfbefea-f36c-47eb-fe3e-f7652c17895e"
      },
      "source": [
        "classmates[3] = \"Dave\"\n",
        "print(classmates)"
      ],
      "execution_count": null,
      "outputs": [
        {
          "output_type": "stream",
          "text": [
            "['Anna', 'Brown', 'Charlie', 'Dave', 'Eric', 'Felix', 'george']\n"
          ],
          "name": "stdout"
        }
      ]
    },
    {
      "cell_type": "code",
      "metadata": {
        "id": "TwX1-H_xFaXf",
        "colab_type": "code",
        "colab": {
          "base_uri": "https://localhost:8080/",
          "height": 34
        },
        "outputId": "575d6181-7de6-4885-d265-1ebb9ae46bcd"
      },
      "source": [
        "classmates.append('Henry')\n",
        "print(classmates)"
      ],
      "execution_count": null,
      "outputs": [
        {
          "output_type": "stream",
          "text": [
            "['Anna', 'Brown', 'Charlie', 'Dave', 'Eric', 'Felix', 'george', 'Henry']\n"
          ],
          "name": "stdout"
        }
      ]
    },
    {
      "cell_type": "code",
      "metadata": {
        "id": "zxzGuYhrFtjq",
        "colab_type": "code",
        "colab": {
          "base_uri": "https://localhost:8080/",
          "height": 51
        },
        "outputId": "553f1ea1-573b-4a45-ec7b-d2e8c594e9ad"
      },
      "source": [
        "classmates.insert(0, \"Abe\")\n",
        "print(classmates)\n",
        "del classmates[0]\n",
        "print(classmates)"
      ],
      "execution_count": null,
      "outputs": [
        {
          "output_type": "stream",
          "text": [
            "['Abe', 'Anna', 'Brown', 'Charlie', 'Dave', 'Eric', 'Felix', 'george', 'Henry']\n",
            "['Anna', 'Brown', 'Charlie', 'Dave', 'Eric', 'Felix', 'george', 'Henry']\n"
          ],
          "name": "stdout"
        }
      ]
    },
    {
      "cell_type": "code",
      "metadata": {
        "id": "aBANafy1GoU2",
        "colab_type": "code",
        "colab": {
          "base_uri": "https://localhost:8080/",
          "height": 51
        },
        "outputId": "0a435557-5f94-4e27-fdc8-44a196c779b2"
      },
      "source": [
        "popped_classmates = classmates.pop()\n",
        "print(classmates)\n",
        "print(popped_classmates)"
      ],
      "execution_count": null,
      "outputs": [
        {
          "output_type": "stream",
          "text": [
            "['Anna', 'Brown', 'Charlie', 'Dave', 'Eric', 'Felix', 'george']\n",
            "Henry\n"
          ],
          "name": "stdout"
        }
      ]
    },
    {
      "cell_type": "code",
      "metadata": {
        "id": "YaCCqalWG4hj",
        "colab_type": "code",
        "colab": {
          "base_uri": "https://localhost:8080/",
          "height": 51
        },
        "outputId": "134eeda4-3bb2-48f4-80ff-b99e94cdd760"
      },
      "source": [
        "popped_classmates = classmates.pop(1)\n",
        "print(classmates)\n",
        "print(popped_classmates)"
      ],
      "execution_count": null,
      "outputs": [
        {
          "output_type": "stream",
          "text": [
            "['Anna', 'Charlie', 'Dave', 'Eric', 'Felix', 'george']\n",
            "Brown\n"
          ],
          "name": "stdout"
        }
      ]
    },
    {
      "cell_type": "code",
      "metadata": {
        "id": "L3xxxD7pHLte",
        "colab_type": "code",
        "colab": {
          "base_uri": "https://localhost:8080/",
          "height": 34
        },
        "outputId": "dd1ca3ea-7374-4ba4-9318-0e4ef485b861"
      },
      "source": [
        "classmates = ['Anna', 'Brown', 'Charlie', 'David', 'Eric', 'Felix', 'george']\n",
        "classmates.remove('Eric')\n",
        "print(classmates)"
      ],
      "execution_count": null,
      "outputs": [
        {
          "output_type": "stream",
          "text": [
            "['Anna', 'Brown', 'Charlie', 'David', 'Felix', 'george']\n"
          ],
          "name": "stdout"
        }
      ]
    },
    {
      "cell_type": "code",
      "metadata": {
        "id": "S0wkdFloHiSW",
        "colab_type": "code",
        "colab": {
          "base_uri": "https://localhost:8080/",
          "height": 34
        },
        "outputId": "3895547a-fe6e-4f39-88a7-7910c5f11ddc"
      },
      "source": [
        "roomate = 'george'\n",
        "classmates.remove(roomate)\n",
        "print(classmates)"
      ],
      "execution_count": null,
      "outputs": [
        {
          "output_type": "stream",
          "text": [
            "['Anna', 'Brown', 'Charlie', 'David', 'Felix']\n"
          ],
          "name": "stdout"
        }
      ]
    },
    {
      "cell_type": "code",
      "metadata": {
        "id": "OjH1EMs-H2qD",
        "colab_type": "code",
        "colab": {
          "base_uri": "https://localhost:8080/",
          "height": 68
        },
        "outputId": "7694aa40-557e-459f-b995-5c0d63827fac"
      },
      "source": [
        "classmates = ['Brown', 'Anna', 'Charlie', 'David', 'Felix', 'Eric', 'george']\n",
        "print(classmates)\n",
        "classmates.sort()\n",
        "print(classmates)\n",
        "classmates.sort(reverse=True)\n",
        "print(classmates)"
      ],
      "execution_count": null,
      "outputs": [
        {
          "output_type": "stream",
          "text": [
            "['Brown', 'Anna', 'Charlie', 'David', 'Felix', 'Eric', 'george']\n",
            "['Anna', 'Brown', 'Charlie', 'David', 'Eric', 'Felix', 'george']\n",
            "['george', 'Felix', 'Eric', 'David', 'Charlie', 'Brown', 'Anna']\n"
          ],
          "name": "stdout"
        }
      ]
    },
    {
      "cell_type": "code",
      "metadata": {
        "id": "R4WDLSeQIgdC",
        "colab_type": "code",
        "colab": {
          "base_uri": "https://localhost:8080/",
          "height": 51
        },
        "outputId": "236cddf4-1b09-4208-ff86-1256fb1f772d"
      },
      "source": [
        "classmates = ['Brown', 'Anna', 'Charlie', 'David', 'Felix', 'Eric', 'george']\n",
        "print(sorted(classmates))\n",
        "print(classmates)"
      ],
      "execution_count": null,
      "outputs": [
        {
          "output_type": "stream",
          "text": [
            "['Anna', 'Brown', 'Charlie', 'David', 'Eric', 'Felix', 'george']\n",
            "['Brown', 'Anna', 'Charlie', 'David', 'Felix', 'Eric', 'george']\n"
          ],
          "name": "stdout"
        }
      ]
    },
    {
      "cell_type": "code",
      "metadata": {
        "id": "t-f-_p90J7SC",
        "colab_type": "code",
        "colab": {
          "base_uri": "https://localhost:8080/",
          "height": 51
        },
        "outputId": "b3ba42b5-c1c9-4e21-d0d0-af78842316af"
      },
      "source": [
        "classmates.reverse()\n",
        "print(classmates)\n",
        "classmates.reverse()\n",
        "print(classmates)"
      ],
      "execution_count": null,
      "outputs": [
        {
          "output_type": "stream",
          "text": [
            "['george', 'Eric', 'Felix', 'David', 'Charlie', 'Anna', 'Brown']\n",
            "['Brown', 'Anna', 'Charlie', 'David', 'Felix', 'Eric', 'george']\n"
          ],
          "name": "stdout"
        }
      ]
    },
    {
      "cell_type": "code",
      "metadata": {
        "id": "Ok9FWOC_KEIR",
        "colab_type": "code",
        "colab": {
          "base_uri": "https://localhost:8080/",
          "height": 34
        },
        "outputId": "2f6d4fa7-29db-4f06-f1f4-e9bc6d03c7a1"
      },
      "source": [
        "len(classmates)"
      ],
      "execution_count": null,
      "outputs": [
        {
          "output_type": "execute_result",
          "data": {
            "text/plain": [
              "7"
            ]
          },
          "metadata": {
            "tags": []
          },
          "execution_count": 60
        }
      ]
    },
    {
      "cell_type": "code",
      "metadata": {
        "id": "NFKhe9zvKrj_",
        "colab_type": "code",
        "colab": {
          "base_uri": "https://localhost:8080/",
          "height": 272
        },
        "outputId": "b2af3233-2069-45a6-d075-97e0c1b7c4f7"
      },
      "source": [
        "for classmate in classmates:\n",
        "    print(classmate.title() + \" is my classmate. \\n\")\n",
        "print('Those are my classmates.')"
      ],
      "execution_count": null,
      "outputs": [
        {
          "output_type": "stream",
          "text": [
            "Brown is my classmate. \n",
            "\n",
            "Anna is my classmate. \n",
            "\n",
            "Charlie is my classmate. \n",
            "\n",
            "David is my classmate. \n",
            "\n",
            "Felix is my classmate. \n",
            "\n",
            "Eric is my classmate. \n",
            "\n",
            "George is my classmate. \n",
            "\n",
            "Those are my classmates.\n"
          ],
          "name": "stdout"
        }
      ]
    },
    {
      "cell_type": "code",
      "metadata": {
        "id": "39nDVBjhLXgB",
        "colab_type": "code",
        "colab": {
          "base_uri": "https://localhost:8080/",
          "height": 34
        },
        "outputId": "bd79f76e-a105-44d9-d622-ea6b77955f81"
      },
      "source": [
        "numbers = list(range(1,6))\n",
        "print(numbers)"
      ],
      "execution_count": null,
      "outputs": [
        {
          "output_type": "stream",
          "text": [
            "[1, 2, 3, 4, 5]\n"
          ],
          "name": "stdout"
        }
      ]
    },
    {
      "cell_type": "code",
      "metadata": {
        "id": "pZbaOJNPESle",
        "colab_type": "code",
        "colab": {
          "base_uri": "https://localhost:8080/",
          "height": 34
        },
        "outputId": "07d31917-3e1c-4a0c-c4c5-fc410c3f1157"
      },
      "source": [
        "even_numbers = list(range(2,11,2))\n",
        "print(even_numbers)"
      ],
      "execution_count": null,
      "outputs": [
        {
          "output_type": "stream",
          "text": [
            "[2, 4, 6, 8, 10]\n"
          ],
          "name": "stdout"
        }
      ]
    },
    {
      "cell_type": "code",
      "metadata": {
        "id": "rdXydVViEiXC",
        "colab_type": "code",
        "colab": {
          "base_uri": "https://localhost:8080/",
          "height": 68
        },
        "outputId": "f899acc6-9c7d-4414-9bbf-99ad69492998"
      },
      "source": [
        "print(min(numbers))\n",
        "print(max(numbers))\n",
        "print(sum(numbers))"
      ],
      "execution_count": null,
      "outputs": [
        {
          "output_type": "stream",
          "text": [
            "1\n",
            "5\n",
            "15\n"
          ],
          "name": "stdout"
        }
      ]
    },
    {
      "cell_type": "code",
      "metadata": {
        "id": "mvI73LniFXXT",
        "colab_type": "code",
        "colab": {
          "base_uri": "https://localhost:8080/",
          "height": 34
        },
        "outputId": "8957bfc5-f13a-487b-ca9b-3c144d3dbb9a"
      },
      "source": [
        "squares = [value ** 2 for value in range(1,11)]\n",
        "print(squares)"
      ],
      "execution_count": null,
      "outputs": [
        {
          "output_type": "stream",
          "text": [
            "[1, 4, 9, 16, 25, 36, 49, 64, 81, 100]\n"
          ],
          "name": "stdout"
        }
      ]
    },
    {
      "cell_type": "code",
      "metadata": {
        "id": "Ed2A_TRsF5Vz",
        "colab_type": "code",
        "colab": {
          "base_uri": "https://localhost:8080/",
          "height": 102
        },
        "outputId": "c91392b3-b714-4913-8928-0bce3680e4c9"
      },
      "source": [
        "print(numbers)\n",
        "print(numbers[0:3])\n",
        "print(numbers[:3])\n",
        "print(numbers[2:])\n",
        "print(numbers[-2:])"
      ],
      "execution_count": null,
      "outputs": [
        {
          "output_type": "stream",
          "text": [
            "[1, 2, 3, 4, 5]\n",
            "[1, 2, 3]\n",
            "[1, 2, 3]\n",
            "[3, 4, 5]\n",
            "[4, 5]\n"
          ],
          "name": "stdout"
        }
      ]
    },
    {
      "cell_type": "code",
      "metadata": {
        "id": "AdqBcWUGTPcC",
        "colab_type": "code",
        "colab": {
          "base_uri": "https://localhost:8080/",
          "height": 136
        },
        "outputId": "ab48c713-237c-4c45-b860-3335c0027ba7"
      },
      "source": [
        "numbers = list(range(1,6))\n",
        "print(numbers)\n",
        "print('')\n",
        "numbers1 = numbers[:]\n",
        "numbers.append(int(6))\n",
        "numbers1.append(int(7))\n",
        "print(numbers)\n",
        "print(numbers1)\n",
        "print('')\n",
        "numbers = list(range(1,6))\n",
        "numbers1 = numbers\n",
        "numbers.append(int(6))\n",
        "numbers1.append(int(7))\n",
        "print(numbers)\n",
        "print(numbers1)"
      ],
      "execution_count": null,
      "outputs": [
        {
          "output_type": "stream",
          "text": [
            "[1, 2, 3, 4, 5]\n",
            "\n",
            "[1, 2, 3, 4, 5, 6]\n",
            "[1, 2, 3, 4, 5, 7]\n",
            "\n",
            "[1, 2, 3, 4, 5, 6, 7]\n",
            "[1, 2, 3, 4, 5, 6, 7]\n"
          ],
          "name": "stdout"
        }
      ]
    },
    {
      "cell_type": "markdown",
      "metadata": {
        "id": "k1pLRPfqVyMT",
        "colab_type": "text"
      },
      "source": [
        "# **tuple**"
      ]
    },
    {
      "cell_type": "code",
      "metadata": {
        "id": "2FfQbT3pUhiO",
        "colab_type": "code",
        "colab": {
          "base_uri": "https://localhost:8080/",
          "height": 51
        },
        "outputId": "d3d0d2d2-8e4d-4e82-8d8c-e6215809e0d3"
      },
      "source": [
        "dimensions = (100,200)\n",
        "print(dimensions[0])\n",
        "print(dimensions[1])"
      ],
      "execution_count": null,
      "outputs": [
        {
          "output_type": "stream",
          "text": [
            "100\n",
            "200\n"
          ],
          "name": "stdout"
        }
      ]
    },
    {
      "cell_type": "code",
      "metadata": {
        "id": "IchBcrwiHXHs",
        "colab_type": "code",
        "colab": {
          "base_uri": "https://localhost:8080/",
          "height": 34
        },
        "outputId": "d2067393-715c-404b-899f-852a473d6787"
      },
      "source": [
        "if 1 in numbers:\n",
        "    print('number 1 is in the list.')\n",
        "elif 2 in numbers:\n",
        "    print('number 2 is in the list.')\n",
        "else:\n",
        "    print('numebrs 1, 2 are not in the list.')"
      ],
      "execution_count": null,
      "outputs": [
        {
          "output_type": "stream",
          "text": [
            "number 1 is in the list.\n"
          ],
          "name": "stdout"
        }
      ]
    },
    {
      "cell_type": "code",
      "metadata": {
        "id": "c0-sf3avHBLY",
        "colab_type": "code",
        "colab": {
          "base_uri": "https://localhost:8080/",
          "height": 119
        },
        "outputId": "9ebda2da-1aea-4d6b-c2dc-33e958d97bd0"
      },
      "source": [
        "numbers = list(range(1,6))\n",
        "\n",
        "print(numbers)\n",
        "print('')\n",
        "\n",
        "if 1 in numbers:\n",
        "    print('number 1 is in the list.')\n",
        "if 2 in numbers:\n",
        "    print('number 2 is in the list.')\n",
        "if 3 in numbers:\n",
        "    print('number 3 is in the list.')\n",
        "\n",
        "print('numbers 1, 2, 3 all in the list.')"
      ],
      "execution_count": null,
      "outputs": [
        {
          "output_type": "stream",
          "text": [
            "[1, 2, 3, 4, 5]\n",
            "\n",
            "number 1 is in the list.\n",
            "number 2 is in the list.\n",
            "number 3 is in the list.\n",
            "numbers 1, 2, 3 all in the list.\n"
          ],
          "name": "stdout"
        }
      ]
    },
    {
      "cell_type": "code",
      "metadata": {
        "id": "iDR201iHIqQz",
        "colab_type": "code",
        "colab": {
          "base_uri": "https://localhost:8080/",
          "height": 34
        },
        "outputId": "da3c7284-c25d-454d-b9fd-9fb21146d8f3"
      },
      "source": [
        "#numbers = list(range(1,6))\n",
        "numbers = []\n",
        "if numbers:\n",
        "    for number in numbers:\n",
        "        if number == max(numbers):\n",
        "            print('the biggest is here, I got it. It is ' + str(number) + '.')\n",
        "        else:\n",
        "            print(str(number) + ' is here.')\n",
        "else:\n",
        "    print('list is empty!')"
      ],
      "execution_count": null,
      "outputs": [
        {
          "output_type": "stream",
          "text": [
            "list is empty!\n"
          ],
          "name": "stdout"
        }
      ]
    },
    {
      "cell_type": "code",
      "metadata": {
        "id": "AMlCs5bmKiyI",
        "colab_type": "code",
        "colab": {
          "base_uri": "https://localhost:8080/",
          "height": 119
        },
        "outputId": "7a999206-33c2-46fd-c2c9-9684e8f2043e"
      },
      "source": [
        "numbers = list(range(1,6))\n",
        "paired_numbers = list(range(1,4))\n",
        "for number in numbers:\n",
        "    if number in paired_numbers:\n",
        "        print(str(number) + ' got paired.')\n",
        "    else:\n",
        "        print(str(number) + ' is alone.')\n",
        "print('finished pairing.')"
      ],
      "execution_count": null,
      "outputs": [
        {
          "output_type": "stream",
          "text": [
            "1 got paired.\n",
            "2 got paired.\n",
            "3 got paired.\n",
            "4 is alone.\n",
            "5 is alone.\n",
            "finished pairing.\n"
          ],
          "name": "stdout"
        }
      ]
    },
    {
      "cell_type": "markdown",
      "metadata": {
        "id": "hAn1jlmdOX5-",
        "colab_type": "text"
      },
      "source": [
        "# **dictionary**"
      ]
    },
    {
      "cell_type": "code",
      "metadata": {
        "id": "t34lAgKXNvIk",
        "colab_type": "code",
        "colab": {
          "base_uri": "https://localhost:8080/",
          "height": 68
        },
        "outputId": "a12a9f2c-505c-4596-c390-4324430550c2"
      },
      "source": [
        "users = {'name': 'A', 'level': 1}\n",
        "print(users['name'])\n",
        "print(users['level'])\n",
        "print(users)"
      ],
      "execution_count": null,
      "outputs": [
        {
          "output_type": "stream",
          "text": [
            "A\n",
            "1\n",
            "{'name': 'A', 'level': 1}\n"
          ],
          "name": "stdout"
        }
      ]
    },
    {
      "cell_type": "code",
      "metadata": {
        "id": "kMMynwKgPFFK",
        "colab_type": "code",
        "colab": {
          "base_uri": "https://localhost:8080/",
          "height": 34
        },
        "outputId": "067c0ca9-0723-42a5-fefa-2c4561f35ba5"
      },
      "source": [
        "user_0 = users\n",
        "user_0['gender'] = 'male'\n",
        "print(user_0)"
      ],
      "execution_count": null,
      "outputs": [
        {
          "output_type": "stream",
          "text": [
            "{'name': 'A', 'level': 1, 'gender': 'male'}\n"
          ],
          "name": "stdout"
        }
      ]
    },
    {
      "cell_type": "code",
      "metadata": {
        "id": "8-TQmooxQMsh",
        "colab_type": "code",
        "colab": {
          "base_uri": "https://localhost:8080/",
          "height": 34
        },
        "outputId": "00fc9edd-8fa0-4dc6-d828-0aa9eae7f3c1"
      },
      "source": [
        "user_0['level'] = 2\n",
        "print('user: '+ user_0['name'] + ' just got leveled up to LV.' + str(user_0['level']) + ' !')"
      ],
      "execution_count": null,
      "outputs": [
        {
          "output_type": "stream",
          "text": [
            "user: A just got leveled up to LV.2 !\n"
          ],
          "name": "stdout"
        }
      ]
    },
    {
      "cell_type": "code",
      "metadata": {
        "id": "f4Oq3qw9RgyC",
        "colab_type": "code",
        "colab": {
          "base_uri": "https://localhost:8080/",
          "height": 221
        },
        "outputId": "e7396634-58fd-4b32-d76a-300bc4f74db4"
      },
      "source": [
        "for key, value in user_0.items():\n",
        "    print('\\nKey: ' + key)\n",
        "    print('\\nValue: ' + str(value))"
      ],
      "execution_count": null,
      "outputs": [
        {
          "output_type": "stream",
          "text": [
            "\n",
            "Key: name\n",
            "\n",
            "Value: A\n",
            "\n",
            "Key: level\n",
            "\n",
            "Value: 2\n",
            "\n",
            "Key: gender\n",
            "\n",
            "Value: male\n"
          ],
          "name": "stdout"
        }
      ]
    },
    {
      "cell_type": "code",
      "metadata": {
        "id": "M-iPOt3mTIKw",
        "colab_type": "code",
        "colab": {
          "base_uri": "https://localhost:8080/",
          "height": 51
        },
        "outputId": "52a98e1e-ac40-422f-f411-511d5debe00a"
      },
      "source": [
        "users = {'name': 'A', 'level': '1'}\n",
        "for name in users.keys():\n",
        "    print(name.title())"
      ],
      "execution_count": null,
      "outputs": [
        {
          "output_type": "stream",
          "text": [
            "Name\n",
            "Level\n"
          ],
          "name": "stdout"
        }
      ]
    },
    {
      "cell_type": "code",
      "metadata": {
        "id": "Z8uGTGPEzFDd",
        "colab_type": "code",
        "colab": {
          "base_uri": "https://localhost:8080/",
          "height": 136
        },
        "outputId": "85a2f06e-faa0-47b5-c77a-bbb2400193c5"
      },
      "source": [
        "classmates = {'Brown': 'male', 'Anna': 'female', 'Charlie': 'male', 'David': 'male', 'Felix': 'male', 'Eric': 'male', 'george': 'male'}\n",
        "for name in sorted(classmates.keys()):\n",
        "    print(name.title() +', Howdy')"
      ],
      "execution_count": null,
      "outputs": [
        {
          "output_type": "stream",
          "text": [
            "Anna, Howdy\n",
            "Brown, Howdy\n",
            "Charlie, Howdy\n",
            "David, Howdy\n",
            "Eric, Howdy\n",
            "Felix, Howdy\n",
            "George, Howdy\n"
          ],
          "name": "stdout"
        }
      ]
    },
    {
      "cell_type": "code",
      "metadata": {
        "id": "wwWqqXXu1mvl",
        "colab_type": "code",
        "colab": {
          "base_uri": "https://localhost:8080/",
          "height": 187
        },
        "outputId": "de786ed5-b269-422d-9785-624e1b663785"
      },
      "source": [
        "for gender in classmates.values():\n",
        "    print(gender.title())\n",
        "print('**********************')\n",
        "for gender in set(classmates.values()):\n",
        "    print(gender.title())"
      ],
      "execution_count": null,
      "outputs": [
        {
          "output_type": "stream",
          "text": [
            "Male\n",
            "Female\n",
            "Male\n",
            "Male\n",
            "Male\n",
            "Male\n",
            "Male\n",
            "**********************\n",
            "Female\n",
            "Male\n"
          ],
          "name": "stdout"
        }
      ]
    },
    {
      "cell_type": "code",
      "metadata": {
        "id": "24aFAP9o2GKE",
        "colab_type": "code",
        "colab": {}
      },
      "source": [
        "users = {\n",
        "    'A':{\n",
        "        'level':'1',\n",
        "        'rank':'low',\n",
        "    },\n",
        "\n",
        "    'B':{\n",
        "        'level':'2',\n",
        "        'rank':'low',\n",
        "    },\n",
        "\n",
        "    'C':{\n",
        "        'level':'3',\n",
        "        'rank':'medium',\n",
        "    },   \n",
        "    \n",
        "}"
      ],
      "execution_count": null,
      "outputs": []
    },
    {
      "cell_type": "code",
      "metadata": {
        "id": "s8h9lJFYc23_",
        "colab_type": "code",
        "colab": {
          "base_uri": "https://localhost:8080/",
          "height": 221
        },
        "outputId": "b5aa98c3-4269-4c65-cd4a-107bb1727376"
      },
      "source": [
        "for username, user_info in users.items():\n",
        "    print('\\nusername: ' + username)\n",
        "    print('\\tLv: ' + user_info['level'] )\n",
        "    print('\\tRank:' + user_info['rank'].title())"
      ],
      "execution_count": null,
      "outputs": [
        {
          "output_type": "stream",
          "text": [
            "\n",
            "username: A\n",
            "\tLv: 1\n",
            "\tRank:Low\n",
            "\n",
            "username: B\n",
            "\tLv: 2\n",
            "\tRank:Low\n",
            "\n",
            "username: C\n",
            "\tLv: 3\n",
            "\tRank:Medium\n"
          ],
          "name": "stdout"
        }
      ]
    },
    {
      "cell_type": "markdown",
      "metadata": {
        "id": "1qw9hVukfuyj",
        "colab_type": "text"
      },
      "source": [
        "# **input**"
      ]
    },
    {
      "cell_type": "code",
      "metadata": {
        "id": "tG87ZCsbfQ9_",
        "colab_type": "code",
        "colab": {
          "base_uri": "https://localhost:8080/",
          "height": 68
        },
        "outputId": "2a0be926-b23f-4c87-dc5c-67935296c3d1"
      },
      "source": [
        "name = input('Hello, my friend, what is your name?\\n')\n",
        "print('Hello, ' + name.title() + '! Nice to meet you.')"
      ],
      "execution_count": null,
      "outputs": [
        {
          "output_type": "stream",
          "text": [
            "Hello, my friend, what is your name?\n",
            "neo\n",
            "Hello, Neo! Nice to meet you.\n"
          ],
          "name": "stdout"
        }
      ]
    },
    {
      "cell_type": "code",
      "metadata": {
        "id": "3fdyh7HjgS8L",
        "colab_type": "code",
        "colab": {
          "base_uri": "https://localhost:8080/",
          "height": 85
        },
        "outputId": "f420d9ab-1dba-4cf0-8f5f-e4bf20f0dab1"
      },
      "source": [
        "prompt = 'Hello, my friend, what is your name?'\n",
        "prompt += '\\nDue to my silly founctionality, type in only name, my friend.\\n'\n",
        "name = input(prompt)\n",
        "print('Hello, ' + name.title() + '! Nice to meet you.')"
      ],
      "execution_count": null,
      "outputs": [
        {
          "output_type": "stream",
          "text": [
            "Hello, my friend, what is your name?\n",
            "Due to my silly founctionality, type in only name, my friend.\n",
            "neo\n",
            "Hello, Neo! Nice to meet you.\n"
          ],
          "name": "stdout"
        }
      ]
    },
    {
      "cell_type": "code",
      "metadata": {
        "id": "UsZGB1ZzhiHy",
        "colab_type": "code",
        "colab": {
          "base_uri": "https://localhost:8080/",
          "height": 68
        },
        "outputId": "79fa05ea-5c24-4c06-9e4f-1d45801f5066"
      },
      "source": [
        "age = int(input('how old are you?\\n'))\n",
        "if age >= 18:\n",
        "  print('welcome to the adult world')\n",
        "else:\n",
        "  print('lucky for you, have fun with the childhood.')"
      ],
      "execution_count": null,
      "outputs": [
        {
          "output_type": "stream",
          "text": [
            "how old are you?\n",
            "22\n",
            "welcome to the adult world\n"
          ],
          "name": "stdout"
        }
      ]
    },
    {
      "cell_type": "code",
      "metadata": {
        "id": "MxEHBI4ViO34",
        "colab_type": "code",
        "colab": {
          "base_uri": "https://localhost:8080/",
          "height": 136
        },
        "outputId": "755cf6d4-7232-426e-f911-2910a9891ae7"
      },
      "source": [
        "prompt = 'this is a tool to help you calculate the residue.'\n",
        "prompt += '\\njust type in the dividend you want to calculate.\\n'\n",
        "dividend = input(prompt)\n",
        "prompt1 = 'and the divisor.\\n'\n",
        "divisor = input(prompt1)\n",
        "residue = int(dividend) % int(divisor)\n",
        "print('\\nhere is your answer: ' + str(residue))\n"
      ],
      "execution_count": null,
      "outputs": [
        {
          "output_type": "stream",
          "text": [
            "this is a tool to help you calculate the residue.\n",
            "just type in the dividend you want to calculate.\n",
            "15\n",
            "and the divisor.\n",
            "6\n",
            "\n",
            "here is your answer: 3\n"
          ],
          "name": "stdout"
        }
      ]
    },
    {
      "cell_type": "markdown",
      "metadata": {
        "id": "whkKDjZelzCi",
        "colab_type": "text"
      },
      "source": [
        "# **while**"
      ]
    },
    {
      "cell_type": "code",
      "metadata": {
        "id": "Y3KwTAs1lG09",
        "colab_type": "code",
        "colab": {
          "base_uri": "https://localhost:8080/",
          "height": 408
        },
        "outputId": "754c1f54-66d5-4e36-bc1c-e9ae5954e32d"
      },
      "source": [
        "message = 'this is an app to help you sleep by counting sheep.'\n",
        "message += '\\nhope that can help.'\n",
        "print(message)\n",
        "i = 1\n",
        "while i <= 20:\n",
        "    print(str(i) + ' sheep')\n",
        "    \n",
        "    if i == 20:\n",
        "        print('how can you still awake? go to bed, my friend.')\n",
        "\n",
        "    i += 1"
      ],
      "execution_count": null,
      "outputs": [
        {
          "output_type": "stream",
          "text": [
            "this is an app to help you sleep by counting sheep.\n",
            "hope that can help.\n",
            "1 sheep\n",
            "2 sheep\n",
            "3 sheep\n",
            "4 sheep\n",
            "5 sheep\n",
            "6 sheep\n",
            "7 sheep\n",
            "8 sheep\n",
            "9 sheep\n",
            "10 sheep\n",
            "11 sheep\n",
            "12 sheep\n",
            "13 sheep\n",
            "14 sheep\n",
            "15 sheep\n",
            "16 sheep\n",
            "17 sheep\n",
            "18 sheep\n",
            "19 sheep\n",
            "20 sheep\n",
            "how can you still awake? go to bed, my friend.\n"
          ],
          "name": "stdout"
        }
      ]
    },
    {
      "cell_type": "code",
      "metadata": {
        "id": "EPyTZaJvnFMs",
        "colab_type": "code",
        "colab": {
          "base_uri": "https://localhost:8080/",
          "height": 204
        },
        "outputId": "3775281b-2455-4baf-f53f-a2435ef4e498"
      },
      "source": [
        "prompt = 'this is a repeater.'\n",
        "prompt += \"\\ntype in 'quit' if you get bored.\"\n",
        "prompt += '\\ntype in anything and check it out: '\n",
        "prompt1 = 'try repeat this: '\n",
        "message = ''\n",
        "print(prompt)\n",
        "while message != 'quit':\n",
        "\n",
        "    message = input(prompt1)\n",
        "\n",
        "    if message != 'quit':\n",
        "        print(message)\n",
        "    else:\n",
        "        print('hope to see you next time.')"
      ],
      "execution_count": null,
      "outputs": [
        {
          "output_type": "stream",
          "text": [
            "this is a repeater.\n",
            "type in 'quit' if you get bored.\n",
            "type in anything and check it out: \n",
            "try repeat that: hello\n",
            "hello\n",
            "try repeat that: waht\n",
            "waht\n",
            "try repeat that: no\n",
            "no\n",
            "try repeat that: quit\n",
            "hope to see you next time.\n"
          ],
          "name": "stdout"
        }
      ]
    },
    {
      "cell_type": "code",
      "metadata": {
        "id": "2ncUU4ifrvvi",
        "colab_type": "code",
        "colab": {
          "base_uri": "https://localhost:8080/",
          "height": 204
        },
        "outputId": "23a4e32b-85ee-4345-bccb-1b2992c73bf9"
      },
      "source": [
        "prompt = 'this is a repeater.'\n",
        "prompt += \"\\ntype in 'quit' if you get bored.\"\n",
        "prompt += '\\ntype in anything and check it out: '\n",
        "prompt1 = 'try repeat this: '\n",
        "message = ''\n",
        "print(prompt)\n",
        "active = True\n",
        "while active:\n",
        "\n",
        "    message = input(prompt1)\n",
        "\n",
        "    if message == 'quit':\n",
        "        active = False\n",
        "        print('hope to see you next time.')\n",
        "    else:\n",
        "        print(message)"
      ],
      "execution_count": null,
      "outputs": [
        {
          "output_type": "stream",
          "text": [
            "this is a repeater.\n",
            "type in 'quit' if you get bored.\n",
            "type in anything and check it out: \n",
            "try repeat this: hello\n",
            "hello\n",
            "try repeat this: hi\n",
            "hi\n",
            "try repeat this: hody\n",
            "hody\n",
            "try repeat this: quit\n",
            "hope to see you next time.\n"
          ],
          "name": "stdout"
        }
      ]
    },
    {
      "cell_type": "code",
      "metadata": {
        "id": "aivjfiJcqDgi",
        "colab_type": "code",
        "colab": {
          "base_uri": "https://localhost:8080/",
          "height": 204
        },
        "outputId": "e082447c-27f0-47c8-e06e-854836002f41"
      },
      "source": [
        "print(prompt)\n",
        "while True:\n",
        "    message = input(prompt1)\n",
        "    if message == 'quit':\n",
        "        print('hope to see you next time.')\n",
        "        break\n",
        "    else:\n",
        "        print(message)  "
      ],
      "execution_count": null,
      "outputs": [
        {
          "output_type": "stream",
          "text": [
            "this is a repeater.\n",
            "type in 'quit' if you get bored.\n",
            "type in anything and check it out: \n",
            "try repeat this: hi\n",
            "hi\n",
            "try repeat this: howdy\n",
            "howdy\n",
            "try repeat this: hello\n",
            "hello\n",
            "try repeat this: quit\n",
            "hope to see you next time.\n"
          ],
          "name": "stdout"
        }
      ]
    },
    {
      "cell_type": "code",
      "metadata": {
        "id": "tEWd_EhEuEcK",
        "colab_type": "code",
        "colab": {
          "base_uri": "https://localhost:8080/",
          "height": 102
        },
        "outputId": "a7063615-0446-4ec1-b8e8-b47f5f63cf27"
      },
      "source": [
        "i = 0\n",
        "while i < 10:\n",
        "    i += 1\n",
        "    if i % 2 == 0:\n",
        "        continue\n",
        "    print(i)"
      ],
      "execution_count": null,
      "outputs": [
        {
          "output_type": "stream",
          "text": [
            "1\n",
            "3\n",
            "5\n",
            "7\n",
            "9\n"
          ],
          "name": "stdout"
        }
      ]
    },
    {
      "cell_type": "code",
      "metadata": {
        "id": "XJTu0qzRuVwt",
        "colab_type": "code",
        "colab": {
          "base_uri": "https://localhost:8080/",
          "height": 289
        },
        "outputId": "56905c2c-76a0-45d2-aa8f-c8632b17bca8"
      },
      "source": [
        "new_classmates = ['Brown', 'Anna', 'Charlie', 'David', 'Felix', 'Eric', 'george']\n",
        "old_classmates = []\n",
        "while new_classmates:\n",
        "    classmate  = new_classmates.pop()\n",
        "    print('Now, I get a new classmate: ' + classmate.title())\n",
        "    old_classmates.append(classmate)\n",
        "print('\\n the following classmate become my new classmates: ')\n",
        "for i in old_classmates:\n",
        "    print(i.title())"
      ],
      "execution_count": null,
      "outputs": [
        {
          "output_type": "stream",
          "text": [
            "Now, I get a new classmate: George\n",
            "Now, I get a new classmate: Eric\n",
            "Now, I get a new classmate: Felix\n",
            "Now, I get a new classmate: David\n",
            "Now, I get a new classmate: Charlie\n",
            "Now, I get a new classmate: Anna\n",
            "Now, I get a new classmate: Brown\n",
            "\n",
            " the following classmate become my new classmates: \n",
            "George\n",
            "Eric\n",
            "Felix\n",
            "David\n",
            "Charlie\n",
            "Anna\n",
            "Brown\n"
          ],
          "name": "stdout"
        }
      ]
    },
    {
      "cell_type": "code",
      "metadata": {
        "id": "iSKxz6uT0Fpm",
        "colab_type": "code",
        "colab": {
          "base_uri": "https://localhost:8080/",
          "height": 51
        },
        "outputId": "20df3691-448c-412a-f94b-2cb46fb7ff62"
      },
      "source": [
        "classmates = ['Brown', 'Anna', 'Charlie', 'David', 'Felix', 'Eric', 'george']\n",
        "print(classmates)\n",
        "while 'Brown' in classmates:\n",
        "    classmates.remove('Brown')\n",
        "print(classmates)"
      ],
      "execution_count": null,
      "outputs": [
        {
          "output_type": "stream",
          "text": [
            "['Brown', 'Anna', 'Charlie', 'David', 'Felix', 'Eric', 'george']\n",
            "['Anna', 'Charlie', 'David', 'Felix', 'Eric', 'george']\n"
          ],
          "name": "stdout"
        }
      ]
    },
    {
      "cell_type": "code",
      "metadata": {
        "id": "kvnHxeT-0oNW",
        "colab_type": "code",
        "colab": {
          "base_uri": "https://localhost:8080/",
          "height": 408
        },
        "outputId": "6968512f-b66c-48ae-9817-dbaa351278a1"
      },
      "source": [
        "users = {}\n",
        "active = True\n",
        "while active:\n",
        "    name = input('\\nwhat is your name?\\n')\n",
        "    gender = input('what is your gender?\\n')\n",
        "    users[name] = gender\n",
        "    reffer = input('would you like to reffer some friends?(y/ n)')\n",
        "    if reffer == 'n':\n",
        "        active = False\n",
        "\n",
        "print('\\n ------USER LIST------')\n",
        "for name, gender in users.items():\n",
        "    print(name.title() + ' is ' + gender.title() + '.')"
      ],
      "execution_count": null,
      "outputs": [
        {
          "output_type": "stream",
          "text": [
            "\n",
            "what is your name?\n",
            "neo\n",
            "what is your gender?\n",
            "m\n",
            "would you like to reffer some friends?(y/ n)y\n",
            "\n",
            "what is your name?\n",
            "leo\n",
            "what is your gender?\n",
            "m\n",
            "would you like to reffer some friends?(y/ n)y\n",
            "\n",
            "what is your name?\n",
            "zeo\n",
            "what is your gender?\n",
            "f\n",
            "would you like to reffer some friends?(y/ n)n\n",
            "\n",
            " ------USER LIST------\n",
            "Neo is M.\n",
            "Leo is M.\n",
            "Zeo is F.\n"
          ],
          "name": "stdout"
        }
      ]
    },
    {
      "cell_type": "markdown",
      "metadata": {
        "id": "8niXkSUMfVqq",
        "colab_type": "text"
      },
      "source": [
        "# **function**"
      ]
    },
    {
      "cell_type": "code",
      "metadata": {
        "id": "Sn8DAQ0d2xEm",
        "colab_type": "code",
        "colab": {
          "base_uri": "https://localhost:8080/",
          "height": 34
        },
        "outputId": "9dc3d7a3-e2e1-4c93-e5ca-435ad9fa6d0d"
      },
      "source": [
        "def greeting(name):\n",
        "    print('Hello, ' + name.title() + '!')\n",
        "\n",
        "greeting('neo')"
      ],
      "execution_count": null,
      "outputs": [
        {
          "output_type": "stream",
          "text": [
            "Hello, Neo!\n"
          ],
          "name": "stdout"
        }
      ]
    },
    {
      "cell_type": "code",
      "metadata": {
        "id": "EKW3dD-dfSQI",
        "colab_type": "code",
        "colab": {
          "base_uri": "https://localhost:8080/",
          "height": 170
        },
        "outputId": "1775bdd8-b082-41d8-8bc1-aee8c4c47ec5"
      },
      "source": [
        "def user_info(user_id, user_name, user_level):\n",
        "    print('\\nUser: ' + user_id)\n",
        "    print('\\tName: '+ user_name.title())\n",
        "    print('\\tLv: ' + user_level)\n",
        "\n",
        "user_info('007','neo','3')\n",
        "print('')\n",
        "user_info(user_level='4', user_name='leo', user_id='005')"
      ],
      "execution_count": null,
      "outputs": [
        {
          "output_type": "stream",
          "text": [
            "\n",
            "User: 007\n",
            "\tName: Neo\n",
            "\tLv: 3\n",
            "\n",
            "\n",
            "User: 005\n",
            "\tName: Leo\n",
            "\tLv: 4\n"
          ],
          "name": "stdout"
        }
      ]
    },
    {
      "cell_type": "code",
      "metadata": {
        "id": "dvfzQ6XpitOs",
        "colab_type": "code",
        "colab": {
          "base_uri": "https://localhost:8080/",
          "height": 238
        },
        "outputId": "6195686c-8d2e-4c24-aa7a-e3e784476664"
      },
      "source": [
        "def user_info(user_id, user_name, user_level='8'):\n",
        "    print('\\nUser: ' + user_id)\n",
        "    print('\\tName: '+ user_name.title())\n",
        "    print('\\tLv: ' + user_level)\n",
        "\n",
        "user_info('007','neo','3')\n",
        "print('')\n",
        "user_info(user_level='4', user_name='leo', user_id='005')\n",
        "user_info('009','zeo')"
      ],
      "execution_count": null,
      "outputs": [
        {
          "output_type": "stream",
          "text": [
            "\n",
            "User: 007\n",
            "\tName: Neo\n",
            "\tLv: 3\n",
            "\n",
            "\n",
            "User: 005\n",
            "\tName: Leo\n",
            "\tLv: 4\n",
            "\n",
            "User: 009\n",
            "\tName: Zeo\n",
            "\tLv: 8\n"
          ],
          "name": "stdout"
        }
      ]
    },
    {
      "cell_type": "code",
      "metadata": {
        "id": "ILFrXrBEs-dd",
        "colab_type": "code",
        "colab": {
          "base_uri": "https://localhost:8080/",
          "height": 34
        },
        "outputId": "92fe8809-5cca-4ad4-93a9-6028e3fad6d3"
      },
      "source": [
        "def register_user(input_name,password):\n",
        "    user ={'name':input_name,'password':password}\n",
        "    return user\n",
        "\n",
        "user_01 = register_user('neo','1234')\n",
        "print(user_01)"
      ],
      "execution_count": null,
      "outputs": [
        {
          "output_type": "stream",
          "text": [
            "{'name': 'neo', 'password': '1234'}\n"
          ],
          "name": "stdout"
        }
      ]
    },
    {
      "cell_type": "code",
      "metadata": {
        "id": "CxkaekSXuXCZ",
        "colab_type": "code",
        "colab": {
          "base_uri": "https://localhost:8080/",
          "height": 289
        },
        "outputId": "4df3c11f-754d-4c54-ddd3-01b9e685aa2e"
      },
      "source": [
        "def greeting(name):\n",
        "    user_name = name.title()\n",
        "    return user_name\n",
        "\n",
        "while True:\n",
        "    print('\\nHello, what is your name?')\n",
        "    print(\"(enter 'q' to quit)\")\n",
        "    input_name = input('My name is: ')\n",
        "    if input_name == 'q':\n",
        "        break\n",
        "    username = greeting(input_name)\n",
        "    print('\\nHello,' + username + '!')\n",
        "\n"
      ],
      "execution_count": null,
      "outputs": [
        {
          "output_type": "stream",
          "text": [
            "\n",
            "Hello, what is your name?\n",
            "(enter 'q' to quit)\n",
            "My name is: leo\n",
            "\n",
            "Hello,Leo!\n",
            "\n",
            "Hello, what is your name?\n",
            "(enter 'q' to quit)\n",
            "My name is: neo\n",
            "\n",
            "Hello,Neo!\n",
            "\n",
            "Hello, what is your name?\n",
            "(enter 'q' to quit)\n",
            "My name is: q\n"
          ],
          "name": "stdout"
        }
      ]
    },
    {
      "cell_type": "code",
      "metadata": {
        "id": "xh2MX0BJxw7t",
        "colab_type": "code",
        "colab": {
          "base_uri": "https://localhost:8080/",
          "height": 136
        },
        "outputId": "a6b9b3d8-8119-4251-a720-f338a6f284ce"
      },
      "source": [
        "def greeting(names):\n",
        "    for name in names:\n",
        "        print('Hello, ' + name.title() + '!')\n",
        "\n",
        "classmates = ['Brown', 'Anna', 'Charlie', 'David', 'Felix', 'Eric', 'george']\n",
        "greeting(classmates)"
      ],
      "execution_count": null,
      "outputs": [
        {
          "output_type": "stream",
          "text": [
            "Hello, Brown!\n",
            "Hello, Anna!\n",
            "Hello, Charlie!\n",
            "Hello, David!\n",
            "Hello, Felix!\n",
            "Hello, Eric!\n",
            "Hello, George!\n"
          ],
          "name": "stdout"
        }
      ]
    },
    {
      "cell_type": "code",
      "metadata": {
        "id": "DtZaa8idzWSp",
        "colab_type": "code",
        "colab": {}
      },
      "source": [
        "def searchapp(unsearch, searched):\n",
        "    while unsearch:\n",
        "        searching = unsearch.pop()\n",
        "        print('Searching for: ' + searching)\n",
        "        searched.append(searching)\n",
        "\n",
        "def show_result(searched):\n",
        "    print('\\nThe searched list:')\n",
        "    for i in searched:\n",
        "        print(i)\n",
        "\n",
        "unsearch = ['Brown', 'Anna', 'Charlie', 'David', 'Felix', 'Eric', 'george']\n",
        "searched = []\n"
      ],
      "execution_count": null,
      "outputs": []
    },
    {
      "cell_type": "code",
      "metadata": {
        "id": "0enAwow21bf4",
        "colab_type": "code",
        "colab": {
          "base_uri": "https://localhost:8080/",
          "height": 323
        },
        "outputId": "48673b07-1624-42cf-b590-3ef6ce33e9f9"
      },
      "source": [
        "searchapp(unsearch, searched)\n",
        "show_result(searched)\n",
        "print('')\n",
        "print(unsearch)"
      ],
      "execution_count": null,
      "outputs": [
        {
          "output_type": "stream",
          "text": [
            "Searching for: george\n",
            "Searching for: Eric\n",
            "Searching for: Felix\n",
            "Searching for: David\n",
            "Searching for: Charlie\n",
            "Searching for: Anna\n",
            "Searching for: Brown\n",
            "\n",
            "The searched list:\n",
            "george\n",
            "Eric\n",
            "Felix\n",
            "David\n",
            "Charlie\n",
            "Anna\n",
            "Brown\n",
            "\n",
            "[]\n"
          ],
          "name": "stdout"
        }
      ]
    },
    {
      "cell_type": "code",
      "metadata": {
        "id": "b61NlPvz1l6M",
        "colab_type": "code",
        "colab": {
          "base_uri": "https://localhost:8080/",
          "height": 323
        },
        "outputId": "8efae8be-8174-4810-d1c7-124289948212"
      },
      "source": [
        "searchapp(unsearch[:], searched)\n",
        "show_result(searched)\n",
        "print('')\n",
        "print(unsearch)"
      ],
      "execution_count": null,
      "outputs": [
        {
          "output_type": "stream",
          "text": [
            "Searching for: george\n",
            "Searching for: Eric\n",
            "Searching for: Felix\n",
            "Searching for: David\n",
            "Searching for: Charlie\n",
            "Searching for: Anna\n",
            "Searching for: Brown\n",
            "\n",
            "The searched list:\n",
            "george\n",
            "Eric\n",
            "Felix\n",
            "David\n",
            "Charlie\n",
            "Anna\n",
            "Brown\n",
            "\n",
            "['Brown', 'Anna', 'Charlie', 'David', 'Felix', 'Eric', 'george']\n"
          ],
          "name": "stdout"
        }
      ]
    },
    {
      "cell_type": "code",
      "metadata": {
        "id": "17rHOD7p2SYj",
        "colab_type": "code",
        "colab": {
          "base_uri": "https://localhost:8080/",
          "height": 187
        },
        "outputId": "2aeb5db6-50b6-49e3-9597-9f5b4e4e31e5"
      },
      "source": [
        "\n",
        "def show_classmate(*names):\n",
        "    print('----The Roster----')\n",
        "    for name in names:\n",
        "        print('-' + name.title())\n",
        "\n",
        "show_classmate('neo')\n",
        "show_classmate('Brown', 'Anna', 'Charlie', 'David', 'Felix', 'Eric', 'george')"
      ],
      "execution_count": null,
      "outputs": [
        {
          "output_type": "stream",
          "text": [
            "----The Roster----\n",
            "-Neo\n",
            "----The Roster----\n",
            "-Brown\n",
            "-Anna\n",
            "-Charlie\n",
            "-David\n",
            "-Felix\n",
            "-Eric\n",
            "-George\n"
          ],
          "name": "stdout"
        }
      ]
    },
    {
      "cell_type": "code",
      "metadata": {
        "id": "A0yUYN4K4CQs",
        "colab_type": "code",
        "colab": {
          "base_uri": "https://localhost:8080/",
          "height": 34
        },
        "outputId": "b55ea4ee-0109-46c6-f3f8-25ff969cc369"
      },
      "source": [
        "def register_user(userid, username, **user_info):\n",
        "    profile = {}\n",
        "    profile['id'] = userid\n",
        "    profile['name'] = username\n",
        "    for key, value in user_info.items():\n",
        "        profile[key] = value\n",
        "    return profile\n",
        "\n",
        "user_profile = register_user('001','neo',level='1',rank='low')\n",
        "print(user_profile)"
      ],
      "execution_count": null,
      "outputs": [
        {
          "output_type": "stream",
          "text": [
            "{'id': '001', 'name': 'neo', 'level': '1', 'rank': 'low'}\n"
          ],
          "name": "stdout"
        }
      ]
    },
    {
      "cell_type": "markdown",
      "metadata": {
        "id": "ZCsYz0us9VTy",
        "colab_type": "text"
      },
      "source": [
        "# **import**"
      ]
    },
    {
      "cell_type": "code",
      "metadata": {
        "id": "aVwxA2JG9ts2",
        "colab_type": "code",
        "colab": {}
      },
      "source": [
        "def register_user(userid, username, **user_info):\n",
        "    profile = {}\n",
        "    profile['id'] = userid\n",
        "    profile['name'] = username\n",
        "    for key, value in user_info.items():\n",
        "        profile[key] = value\n",
        "    return profile"
      ],
      "execution_count": null,
      "outputs": []
    },
    {
      "cell_type": "markdown",
      "metadata": {
        "id": "cHb6X40U9Z-v",
        "colab_type": "text"
      },
      "source": [
        "save as register.py in the same file folder.\n",
        "\n",
        "then create another .py file\n",
        "\n",
        "\n"
      ]
    },
    {
      "cell_type": "code",
      "metadata": {
        "id": "F4oD74MK97xj",
        "colab_type": "code",
        "colab": {}
      },
      "source": [
        "import register\n",
        "\n",
        "register.register_user('001','neo',level='1',rank='low')"
      ],
      "execution_count": null,
      "outputs": []
    },
    {
      "cell_type": "markdown",
      "metadata": {
        "id": "AKgfs7Q8-U1l",
        "colab_type": "text"
      },
      "source": [
        "from module_name import function_name, function_2, ...\n",
        "\n",
        "from module_name import *"
      ]
    },
    {
      "cell_type": "code",
      "metadata": {
        "id": "hqGQNzo69vbQ",
        "colab_type": "code",
        "colab": {}
      },
      "source": [
        "from register import register_user as ru\n",
        "ru('001','neo',level='1',rank='low')\n",
        "\n",
        "import register as r\n",
        "r.register_user('001','neo',level='1',rank='low')\n",
        "\n",
        "from register import *\n",
        "register_user('001','neo',level='1',rank='low')"
      ],
      "execution_count": null,
      "outputs": []
    },
    {
      "cell_type": "markdown",
      "metadata": {
        "id": "RN5Ym-Su2WKw",
        "colab_type": "text"
      },
      "source": [
        "# **class**"
      ]
    },
    {
      "cell_type": "code",
      "metadata": {
        "id": "30VQVdy7qtrN",
        "colab_type": "code",
        "colab": {
          "base_uri": "https://localhost:8080/",
          "height": 153
        },
        "outputId": "7601a256-7cfa-4a71-e709-45b102e867d8"
      },
      "source": [
        "class AI():\n",
        "    \n",
        "    def __init__(self,name,level):\n",
        "        self.name = name\n",
        "        self.level = level\n",
        "        self.mode = 'funny'\n",
        "\n",
        "    def show_info(self):\n",
        "        print('---AI description---')\n",
        "        print('name:' + self.name.title())\n",
        "        print('level: ' + str(self.level))\n",
        "        print('mode: ' + self.mode)\n",
        "        print('')\n",
        "\n",
        "    def talk(self):\n",
        "        print(self.name.title() + ' is now talking.')\n",
        "\n",
        "    def move(self):\n",
        "        print(self.name.title() + ' is now moving.')\n",
        "\n",
        "    def battery(self):\n",
        "        status = self.name.title() + ' is low battery, need charge now!'\n",
        "        return status\n",
        "\n",
        "    def update_mode(self, character):\n",
        "        if character != self.mode:\n",
        "            self.mode = character\n",
        "        else:\n",
        "            print('Already in ' + self.mode + ' mode.')\n",
        "\n",
        "    def level_up(self, levels):\n",
        "        self.level += levels\n",
        "\n",
        "\n",
        "my_AI = AI('neo', 1)\n",
        "my_AI.show_info()\n",
        "my_AI.talk()\n",
        "my_AI.move()\n",
        "print(my_AI.battery())"
      ],
      "execution_count": null,
      "outputs": [
        {
          "output_type": "stream",
          "text": [
            "---AI description---\n",
            "name:Neo\n",
            "level: 1\n",
            "mode: funny\n",
            "\n",
            "Neo is now talking.\n",
            "Neo is now moving.\n",
            "Neo is low battery, need charge now!\n"
          ],
          "name": "stdout"
        }
      ]
    },
    {
      "cell_type": "code",
      "metadata": {
        "id": "KbTCet252cZG",
        "colab_type": "code",
        "colab": {
          "base_uri": "https://localhost:8080/",
          "height": 102
        },
        "outputId": "e17dca45-4785-477e-8490-94612eb0ccf3"
      },
      "source": [
        "my_AI.mode = 'cute'\n",
        "my_AI.show_info()"
      ],
      "execution_count": null,
      "outputs": [
        {
          "output_type": "stream",
          "text": [
            "---AI description---\n",
            "name:Neo\n",
            "age: 1\n",
            "mode: cute\n",
            "\n"
          ],
          "name": "stdout"
        }
      ]
    },
    {
      "cell_type": "code",
      "metadata": {
        "id": "2sKXwNkY-aYG",
        "colab_type": "code",
        "colab": {
          "base_uri": "https://localhost:8080/",
          "height": 102
        },
        "outputId": "ddc3accf-54d4-428e-b3c1-2a10d6b46f8a"
      },
      "source": [
        "my_AI.update_mode('smart')\n",
        "my_AI.show_info()"
      ],
      "execution_count": null,
      "outputs": [
        {
          "output_type": "stream",
          "text": [
            "---AI description---\n",
            "name:Neo\n",
            "age: 1\n",
            "mode: smart\n",
            "\n"
          ],
          "name": "stdout"
        }
      ]
    },
    {
      "cell_type": "code",
      "metadata": {
        "id": "zxnQRSpw_NsM",
        "colab_type": "code",
        "colab": {
          "base_uri": "https://localhost:8080/",
          "height": 119
        },
        "outputId": "10d557b3-d408-44ea-c765-e385c03794dc"
      },
      "source": [
        "my_AI.update_mode('smart')\n",
        "my_AI.show_info()"
      ],
      "execution_count": null,
      "outputs": [
        {
          "output_type": "stream",
          "text": [
            "Already in smart mode.\n",
            "---AI description---\n",
            "name:Neo\n",
            "age: 1\n",
            "mode: smart\n",
            "\n"
          ],
          "name": "stdout"
        }
      ]
    },
    {
      "cell_type": "code",
      "metadata": {
        "id": "chBOHOndAvsB",
        "colab_type": "code",
        "colab": {
          "base_uri": "https://localhost:8080/",
          "height": 102
        },
        "outputId": "3cebfded-45e3-47e6-f5e8-c3ea78c077b0"
      },
      "source": [
        "my_AI.level_up(4)\n",
        "my_AI.show_info()"
      ],
      "execution_count": null,
      "outputs": [
        {
          "output_type": "stream",
          "text": [
            "---AI description---\n",
            "name:Neo\n",
            "level: 5\n",
            "mode: funny\n",
            "\n"
          ],
          "name": "stdout"
        }
      ]
    },
    {
      "cell_type": "code",
      "metadata": {
        "id": "oCnJg_AnBZIH",
        "colab_type": "code",
        "colab": {
          "base_uri": "https://localhost:8080/",
          "height": 119
        },
        "outputId": "b0b555ca-c82a-4358-dde2-dbdf762bff04"
      },
      "source": [
        "class Robot(AI):\n",
        "\n",
        "      def __init__(self,name,level):\n",
        "          super().__init__(name,level)\n",
        "          self.skills = 'read, write, sing, dance'\n",
        "\n",
        "      def show_skills(self):\n",
        "          print(self.name.title() + ' have many skills: '+ self.skills)\n",
        "\n",
        "      def update_mode(self, character):\n",
        "          print('Robot is unable to change mode!') \n",
        "\n",
        "\n",
        "my_robot = Robot('leo',2)\n",
        "print(my_robot.show_info())"
      ],
      "execution_count": null,
      "outputs": [
        {
          "output_type": "stream",
          "text": [
            "---AI description---\n",
            "name:Leo\n",
            "level: 2\n",
            "mode: funny\n",
            "\n",
            "None\n"
          ],
          "name": "stdout"
        }
      ]
    },
    {
      "cell_type": "code",
      "metadata": {
        "id": "CQTlcD8sCGrv",
        "colab_type": "code",
        "colab": {
          "base_uri": "https://localhost:8080/",
          "height": 34
        },
        "outputId": "ae38b169-4655-43ef-ef6f-f336bbf6c173"
      },
      "source": [
        "my_robot.show_skills()"
      ],
      "execution_count": null,
      "outputs": [
        {
          "output_type": "stream",
          "text": [
            "Leo have many skills: read, write, sing, dance\n"
          ],
          "name": "stdout"
        }
      ]
    },
    {
      "cell_type": "code",
      "metadata": {
        "id": "lEkdm1w6Dz0S",
        "colab_type": "code",
        "colab": {
          "base_uri": "https://localhost:8080/",
          "height": 136
        },
        "outputId": "125542f2-275d-47eb-a839-f6e5703edc7e"
      },
      "source": [
        "my_robot.update_mode('smart')\n",
        "print(my_robot.show_info())"
      ],
      "execution_count": null,
      "outputs": [
        {
          "output_type": "stream",
          "text": [
            "Robot is unable to change mode!\n",
            "---AI description---\n",
            "name:Leo\n",
            "level: 2\n",
            "mode: funny\n",
            "\n",
            "None\n"
          ],
          "name": "stdout"
        }
      ]
    },
    {
      "cell_type": "markdown",
      "metadata": {
        "id": "jnNXE3UgFgr-",
        "colab_type": "text"
      },
      "source": [
        "*save class AI as AI.py*\n",
        "\n",
        "*then open another .py file* "
      ]
    },
    {
      "cell_type": "code",
      "metadata": {
        "id": "DzhvVI2FFrEG",
        "colab_type": "code",
        "colab": {}
      },
      "source": [
        "from AI import AI\n",
        "my_AI = AI('leo',3)\n",
        "print(my_AI.show_info())"
      ],
      "execution_count": null,
      "outputs": []
    },
    {
      "cell_type": "markdown",
      "metadata": {
        "id": "SbSm3YTuGgmX",
        "colab_type": "text"
      },
      "source": [
        "*save class AI and Robot together as Ai.py*\n",
        "\n",
        "*then open another .py file* "
      ]
    },
    {
      "cell_type": "code",
      "metadata": {
        "id": "ZUC38w8rGfhT",
        "colab_type": "code",
        "colab": {}
      },
      "source": [
        "from Ai import AI, Robot\n",
        "my_new_friend = Robot('leo',2)\n",
        "my_old_friend = AI('leo',3)\n",
        "print(my_new_friend .show_info())\n",
        "print(my_old_friend .show_info())"
      ],
      "execution_count": null,
      "outputs": []
    },
    {
      "cell_type": "markdown",
      "metadata": {
        "id": "S1M9d-MbwsS6",
        "colab_type": "text"
      },
      "source": [
        "# **read data from file**"
      ]
    },
    {
      "cell_type": "code",
      "metadata": {
        "id": "0sAPICNFwrxF",
        "colab_type": "code",
        "colab": {}
      },
      "source": [
        "with open('test.txt') as f:\n",
        "    contents = f.read()\n",
        "    print(contents)\n",
        "    print(contents.rstrip())  #delete the blank row"
      ],
      "execution_count": null,
      "outputs": []
    },
    {
      "cell_type": "code",
      "metadata": {
        "id": "cGSRCmU4z4oS",
        "colab_type": "code",
        "colab": {}
      },
      "source": [
        "with open('file_folder_name\\file_name.txt') as f:\n",
        "\n",
        "file_path = 'C:\\Users\\name\\file_folder_name\\file_name.txt'\n",
        "with open(file_path) as f:"
      ],
      "execution_count": null,
      "outputs": []
    },
    {
      "cell_type": "code",
      "metadata": {
        "id": "PzmafD3F39eN",
        "colab_type": "code",
        "colab": {}
      },
      "source": [
        "filename = 'test.txt'\n",
        "\n",
        "with open(filename) as f:\n",
        "    for line in f:\n",
        "        print(line)\n",
        "        print(line.rstrip())"
      ],
      "execution_count": null,
      "outputs": []
    },
    {
      "cell_type": "code",
      "metadata": {
        "id": "ZuBz27-V4Qpo",
        "colab_type": "code",
        "colab": {}
      },
      "source": [
        "filename = 'test.txt'\n",
        "\n",
        "with open(filename) as f:\n",
        "    lines = f.readlines()\n",
        "\n",
        "string = ''\n",
        "for line in lines:\n",
        "    string += line.rstrip()\n",
        "    #string += line.strip() # delete all blank spaces\n",
        "print(string)\n",
        "print(len(string))"
      ],
      "execution_count": null,
      "outputs": []
    },
    {
      "cell_type": "code",
      "metadata": {
        "id": "90SAFRkp6qni",
        "colab_type": "code",
        "colab": {}
      },
      "source": [
        "filename = 'big_test.txt'\n",
        "\n",
        "with open(filename) as f:\n",
        "    lines = f.readlines()\n",
        "\n",
        "string = ''\n",
        "for line in lines:\n",
        "    string += line.strip() \n",
        "\n",
        "print(string[:2020] + '...')\n",
        "print(len(string))"
      ],
      "execution_count": null,
      "outputs": []
    },
    {
      "cell_type": "code",
      "metadata": {
        "id": "PGDVCJHA755o",
        "colab_type": "code",
        "colab": {}
      },
      "source": [
        "filename = 'big_test.txt'\n",
        "\n",
        "with open(filename) as f:\n",
        "    lines = f.readlines()\n",
        "\n",
        "string = ''\n",
        "for line in lines:\n",
        "    string += line.strip() \n",
        "\n",
        "keyword = input('enter the keyword you want to find:  ')\n",
        "if keyword in string:\n",
        "    print('keyword founded')\n",
        "else:\n",
        "    print('keyword not found')\n"
      ],
      "execution_count": null,
      "outputs": []
    },
    {
      "cell_type": "code",
      "metadata": {
        "id": "9cVgf7if8sch",
        "colab_type": "code",
        "colab": {
          "base_uri": "https://localhost:8080/",
          "height": 51
        },
        "outputId": "0b94bf8a-248d-4ef7-84b6-3d0e86db6cc2"
      },
      "source": [
        "message = \"I miss you now.\"\n",
        "print(message)\n",
        "new_message = message.replace('you','home')\n",
        "print(new_message)"
      ],
      "execution_count": null,
      "outputs": [
        {
          "output_type": "stream",
          "text": [
            "I miss you now.\n",
            "I miss home now.\n"
          ],
          "name": "stdout"
        }
      ]
    },
    {
      "cell_type": "markdown",
      "metadata": {
        "id": "vRDL3ILC-efF",
        "colab_type": "text"
      },
      "source": [
        "# **save data to file**"
      ]
    },
    {
      "cell_type": "code",
      "metadata": {
        "id": "VR7hDgCF9jvX",
        "colab_type": "code",
        "colab": {}
      },
      "source": [
        "filename = 'test.txt'\n",
        "\n",
        "#'w' method will clear the existing data from file\n",
        "with open(filename, 'w') as f:\n",
        "    f.write('this is a test.')   #there will be no line break\n",
        "    f.write('this is also a test.\\n')\n",
        "\n",
        "#'a' method only add data \n",
        "with open(filename, 'a') as f:\n",
        "    f.write('this is an additional test.\\n')\n",
        "    f.write('this is also an additional test.\\n')\n",
        "    "
      ],
      "execution_count": null,
      "outputs": []
    },
    {
      "cell_type": "markdown",
      "metadata": {
        "id": "6xVz7xrUhYB_",
        "colab_type": "text"
      },
      "source": [
        "# **deal with errors**"
      ]
    },
    {
      "cell_type": "code",
      "metadata": {
        "id": "Cjao9H2jTtvP",
        "colab_type": "code",
        "colab": {
          "base_uri": "https://localhost:8080/",
          "height": 163
        },
        "outputId": "5c3e7039-4e89-40e4-87af-eab19d787d31"
      },
      "source": [
        "    print(52/0)"
      ],
      "execution_count": null,
      "outputs": [
        {
          "output_type": "error",
          "ename": "ZeroDivisionError",
          "evalue": "ignored",
          "traceback": [
            "\u001b[0;31m---------------------------------------------------------------------------\u001b[0m",
            "\u001b[0;31mZeroDivisionError\u001b[0m                         Traceback (most recent call last)",
            "\u001b[0;32m<ipython-input-11-0d1db915a4fb>\u001b[0m in \u001b[0;36m<module>\u001b[0;34m()\u001b[0m\n\u001b[0;32m----> 1\u001b[0;31m \u001b[0mprint\u001b[0m\u001b[0;34m(\u001b[0m\u001b[0;36m52\u001b[0m\u001b[0;34m/\u001b[0m\u001b[0;36m0\u001b[0m\u001b[0;34m)\u001b[0m\u001b[0;34m\u001b[0m\u001b[0;34m\u001b[0m\u001b[0m\n\u001b[0m",
            "\u001b[0;31mZeroDivisionError\u001b[0m: division by zero"
          ]
        }
      ]
    },
    {
      "cell_type": "code",
      "metadata": {
        "id": "JaebLaWITkvX",
        "colab_type": "code",
        "colab": {
          "base_uri": "https://localhost:8080/",
          "height": 34
        },
        "outputId": "c7e99634-e020-44e4-9d4a-c3603d266020"
      },
      "source": [
        "try:\n",
        "    print(52/0)\n",
        "except ZeroDivisionError:\n",
        "    print('unable to excute divide by zero')"
      ],
      "execution_count": null,
      "outputs": [
        {
          "output_type": "stream",
          "text": [
            "unable to excute divide by zero\n"
          ],
          "name": "stdout"
        }
      ]
    },
    {
      "cell_type": "code",
      "metadata": {
        "id": "3mDmtNl0T7Pp",
        "colab_type": "code",
        "colab": {
          "base_uri": "https://localhost:8080/",
          "height": 221
        },
        "outputId": "1cc391d9-e4e3-47c0-fd63-2ac2fc28983c"
      },
      "source": [
        "while True:\n",
        "    a = input('\\ndividend: ')\n",
        "    if a == 'q':\n",
        "        break\n",
        "    b = input('\\ndivisor: ')\n",
        "    try:\n",
        "        answer = int(a)/int(b)\n",
        "    except ZeroDivisionError:\n",
        "        print('unable to excute divide by zero')\n",
        "    else:\n",
        "        print(answer)"
      ],
      "execution_count": null,
      "outputs": [
        {
          "output_type": "stream",
          "text": [
            "\n",
            "dividend: 10\n",
            "\n",
            "divisor: 5\n",
            "2.0\n",
            "\n",
            "dividend: 10\n",
            "\n",
            "divisor: 0\n",
            "unable to excute divide by zero\n",
            "\n",
            "dividend: q\n"
          ],
          "name": "stdout"
        }
      ]
    },
    {
      "cell_type": "code",
      "metadata": {
        "id": "vIhWHsdibpJH",
        "colab_type": "code",
        "colab": {}
      },
      "source": [
        "filename = 'test.txt'\n",
        "\n",
        "try:\n",
        "    with open(filename, 'w') as f:\n",
        "        contents = f.read()\n",
        "except FileNotFoundError:\n",
        "    msg = filename + ' not exist.'\n",
        "    print(msg)"
      ],
      "execution_count": null,
      "outputs": []
    },
    {
      "cell_type": "code",
      "metadata": {
        "id": "AerwASyziCIk",
        "colab_type": "code",
        "colab": {
          "base_uri": "https://localhost:8080/",
          "height": 51
        },
        "outputId": "d99a9016-3be1-4903-fd86-b368c7a3bb99"
      },
      "source": [
        "sentence = 'I am a robot.'\n",
        "print(sentence.split())\n",
        "print(len(sentence))"
      ],
      "execution_count": null,
      "outputs": [
        {
          "output_type": "stream",
          "text": [
            "['I', 'am', 'a', 'robot.']\n",
            "13\n"
          ],
          "name": "stdout"
        }
      ]
    },
    {
      "cell_type": "code",
      "metadata": {
        "id": "uKf7ovGZip-K",
        "colab_type": "code",
        "colab": {}
      },
      "source": [
        "def count_words(filename):\n",
        "    try:\n",
        "        with open(filename) as f:\n",
        "            contents = f.read()\n",
        "    except FileNotFoundError:\n",
        "        msg = filename + ' not exist.'\n",
        "        print(msg)\n",
        "    else:\n",
        "        words = contents.split()\n",
        "        num = len(words)\n",
        "        print(filename + ' has ' + str(num) + 'words.')\n",
        "\n",
        "filenames = ['text1.txt', 'text2.txt', 'text3.txt']\n",
        "for filename in filenames:\n",
        "    count_words(filename)\n"
      ],
      "execution_count": null,
      "outputs": []
    },
    {
      "cell_type": "code",
      "metadata": {
        "id": "OvXVsHdGniHB",
        "colab_type": "code",
        "colab": {}
      },
      "source": [
        "import json\n",
        "number = [97,76,69]\n",
        "filename = 'numbers.json'\n",
        "with open(filename, 'w') as f:\n",
        "    json.dump(number, f)"
      ],
      "execution_count": null,
      "outputs": []
    },
    {
      "cell_type": "code",
      "metadata": {
        "id": "pkLq9qnhn8Go",
        "colab_type": "code",
        "colab": {}
      },
      "source": [
        "import json\n",
        "\n",
        "filename = 'numbers.json'\n",
        "with open(filename) as f:\n",
        "    numbers = json.load(f)\n",
        "  \n",
        "print(numbers)"
      ],
      "execution_count": null,
      "outputs": []
    },
    {
      "cell_type": "code",
      "metadata": {
        "id": "E0EG8KC9oTYy",
        "colab_type": "code",
        "colab": {}
      },
      "source": [
        "import json\n",
        "\n",
        "username = input('please input your name: ')\n",
        "\n",
        "filename = 'username.json'\n",
        "with open(filename, 'w') as f:\n",
        "    json.dump(username, f)\n",
        "    print('register success')"
      ],
      "execution_count": null,
      "outputs": []
    },
    {
      "cell_type": "code",
      "metadata": {
        "id": "XZoWW7vuo6Ui",
        "colab_type": "code",
        "colab": {}
      },
      "source": [
        "import json\n",
        "\n",
        "filename = 'username.json'\n",
        "\n",
        "with open(filename) as f:\n",
        "    username = json.load(f)\n",
        "    print('welcome, ' + username)"
      ],
      "execution_count": null,
      "outputs": []
    },
    {
      "cell_type": "code",
      "metadata": {
        "id": "O3h5wpfRpypL",
        "colab_type": "code",
        "colab": {}
      },
      "source": [
        "import json\n",
        "\n",
        "def get_exist_name():\n",
        "    filename = 'username.json'\n",
        "    try:\n",
        "        with open(filename) as f:\n",
        "            username = json.load(f)\n",
        "    except FileNotFoundError:\n",
        "        return None\n",
        "    else:\n",
        "        return username\n",
        "\n",
        "def get_new_user()\n",
        "    username = input('please input your name: ')\n",
        "    filename = 'username.json'\n",
        "    with open(filename, 'w') as f:\n",
        "        json.dump(username, f)\n",
        "        #print('register success')\n",
        "    return username\n",
        "\n",
        "def greet_user():\n",
        "    username = get_exist_name()\n",
        "    if username:\n",
        "        print('welcome, ' + username)\n",
        "    else:\n",
        "        username = get_new_user\n",
        "        print('register success: ' + username)\n"
      ],
      "execution_count": null,
      "outputs": []
    },
    {
      "cell_type": "markdown",
      "metadata": {
        "id": "RJFsg8LpaPXe",
        "colab_type": "text"
      },
      "source": [
        "# **test the code**"
      ]
    },
    {
      "cell_type": "code",
      "metadata": {
        "id": "mVv3KhhdaUWL",
        "colab_type": "code",
        "colab": {}
      },
      "source": [
        "def formate_name(first, last):\n",
        "    full_name = first + ' ' + last\n",
        "    return full_name.title()\n",
        "\n",
        "## save as naming.py"
      ],
      "execution_count": null,
      "outputs": []
    },
    {
      "cell_type": "code",
      "metadata": {
        "id": "9IhmCO8Mamf5",
        "colab_type": "code",
        "colab": {}
      },
      "source": [
        "from naming import formate_name as fn\n",
        "print(\"the mamgic exit key is 'q'.\")\n",
        "while True:\n",
        "    first = input('\\nfirst name goes first: ')\n",
        "    if first == 'q':\n",
        "        break\n",
        "    last = input('\\nlast name goes last: ')\n",
        "    if last == 'q':\n",
        "        break\n",
        "\n",
        "    good_looking_name = fn(first, last)\n",
        "    print('\\there goes the good looking name: ' + good_looking_name + '.')\n",
        "\n"
      ],
      "execution_count": null,
      "outputs": []
    },
    {
      "cell_type": "code",
      "metadata": {
        "id": "8mMVeBlQcIPJ",
        "colab_type": "code",
        "colab": {
          "base_uri": "https://localhost:8080/",
          "height": 119
        },
        "outputId": "9fd39e50-8e8d-47ba-d0dd-707430911e09"
      },
      "source": [
        "import unittest\n",
        "#from naming import formate_name as fn\n",
        "\n",
        "class NameTest(unittest.TestCase):\n",
        "\n",
        "    def test_name(self):\n",
        "        good_looking_name = formate_name('leo', 'neo')\n",
        "        #good_looking_name = fn('leo', 'neo')\n",
        "        self.assertEqual(good_looking_name, 'Leo Neo')\n",
        "\n",
        "    #def test_another_stuff\n",
        "\n",
        "#unittest.main()\n",
        "unittest.main(argv=['first-arg-is-ignored'], exit=False)"
      ],
      "execution_count": null,
      "outputs": [
        {
          "output_type": "stream",
          "text": [
            ".\n",
            "----------------------------------------------------------------------\n",
            "Ran 1 test in 0.002s\n",
            "\n",
            "OK\n"
          ],
          "name": "stderr"
        },
        {
          "output_type": "execute_result",
          "data": {
            "text/plain": [
              "<unittest.main.TestProgram at 0x7f0bfe43b898>"
            ]
          },
          "metadata": {
            "tags": []
          },
          "execution_count": 8
        }
      ]
    },
    {
      "cell_type": "code",
      "metadata": {
        "id": "FX_3UFglcTjZ",
        "colab_type": "code",
        "colab": {
          "base_uri": "https://localhost:8080/",
          "height": 479
        },
        "outputId": "4b03917f-f39c-4383-f57f-4fb48c7a6a18"
      },
      "source": [
        "%tb"
      ],
      "execution_count": null,
      "outputs": [
        {
          "output_type": "error",
          "ename": "SystemExit",
          "evalue": "ignored",
          "traceback": [
            "\u001b[0;31m---------------------------------------------------------------------------\u001b[0m",
            "\u001b[0;31mSystemExit\u001b[0m                                Traceback (most recent call last)",
            "\u001b[0;32m<ipython-input-3-703bcf1902c7>\u001b[0m in \u001b[0;36m<module>\u001b[0;34m()\u001b[0m\n\u001b[1;32m      9\u001b[0m         \u001b[0mself\u001b[0m\u001b[0;34m.\u001b[0m\u001b[0masserEqual\u001b[0m\u001b[0;34m(\u001b[0m\u001b[0mgood_looking_name\u001b[0m\u001b[0;34m,\u001b[0m \u001b[0;34m'Leo Neo'\u001b[0m\u001b[0;34m)\u001b[0m\u001b[0;34m\u001b[0m\u001b[0;34m\u001b[0m\u001b[0m\n\u001b[1;32m     10\u001b[0m \u001b[0;34m\u001b[0m\u001b[0m\n\u001b[0;32m---> 11\u001b[0;31m \u001b[0munittest\u001b[0m\u001b[0;34m.\u001b[0m\u001b[0mmain\u001b[0m\u001b[0;34m(\u001b[0m\u001b[0;34m)\u001b[0m\u001b[0;34m\u001b[0m\u001b[0;34m\u001b[0m\u001b[0m\n\u001b[0m",
            "\u001b[0;32m/usr/lib/python3.6/unittest/main.py\u001b[0m in \u001b[0;36m__init__\u001b[0;34m(self, module, defaultTest, argv, testRunner, testLoader, exit, verbosity, failfast, catchbreak, buffer, warnings, tb_locals)\u001b[0m\n\u001b[1;32m     93\u001b[0m         \u001b[0mself\u001b[0m\u001b[0;34m.\u001b[0m\u001b[0mprogName\u001b[0m \u001b[0;34m=\u001b[0m \u001b[0mos\u001b[0m\u001b[0;34m.\u001b[0m\u001b[0mpath\u001b[0m\u001b[0;34m.\u001b[0m\u001b[0mbasename\u001b[0m\u001b[0;34m(\u001b[0m\u001b[0margv\u001b[0m\u001b[0;34m[\u001b[0m\u001b[0;36m0\u001b[0m\u001b[0;34m]\u001b[0m\u001b[0;34m)\u001b[0m\u001b[0;34m\u001b[0m\u001b[0;34m\u001b[0m\u001b[0m\n\u001b[1;32m     94\u001b[0m         \u001b[0mself\u001b[0m\u001b[0;34m.\u001b[0m\u001b[0mparseArgs\u001b[0m\u001b[0;34m(\u001b[0m\u001b[0margv\u001b[0m\u001b[0;34m)\u001b[0m\u001b[0;34m\u001b[0m\u001b[0;34m\u001b[0m\u001b[0m\n\u001b[0;32m---> 95\u001b[0;31m         \u001b[0mself\u001b[0m\u001b[0;34m.\u001b[0m\u001b[0mrunTests\u001b[0m\u001b[0;34m(\u001b[0m\u001b[0;34m)\u001b[0m\u001b[0;34m\u001b[0m\u001b[0;34m\u001b[0m\u001b[0m\n\u001b[0m\u001b[1;32m     96\u001b[0m \u001b[0;34m\u001b[0m\u001b[0m\n\u001b[1;32m     97\u001b[0m     \u001b[0;32mdef\u001b[0m \u001b[0musageExit\u001b[0m\u001b[0;34m(\u001b[0m\u001b[0mself\u001b[0m\u001b[0;34m,\u001b[0m \u001b[0mmsg\u001b[0m\u001b[0;34m=\u001b[0m\u001b[0;32mNone\u001b[0m\u001b[0;34m)\u001b[0m\u001b[0;34m:\u001b[0m\u001b[0;34m\u001b[0m\u001b[0;34m\u001b[0m\u001b[0m\n",
            "\u001b[0;32m/usr/lib/python3.6/unittest/main.py\u001b[0m in \u001b[0;36mrunTests\u001b[0;34m(self)\u001b[0m\n\u001b[1;32m    256\u001b[0m         \u001b[0mself\u001b[0m\u001b[0;34m.\u001b[0m\u001b[0mresult\u001b[0m \u001b[0;34m=\u001b[0m \u001b[0mtestRunner\u001b[0m\u001b[0;34m.\u001b[0m\u001b[0mrun\u001b[0m\u001b[0;34m(\u001b[0m\u001b[0mself\u001b[0m\u001b[0;34m.\u001b[0m\u001b[0mtest\u001b[0m\u001b[0;34m)\u001b[0m\u001b[0;34m\u001b[0m\u001b[0;34m\u001b[0m\u001b[0m\n\u001b[1;32m    257\u001b[0m         \u001b[0;32mif\u001b[0m \u001b[0mself\u001b[0m\u001b[0;34m.\u001b[0m\u001b[0mexit\u001b[0m\u001b[0;34m:\u001b[0m\u001b[0;34m\u001b[0m\u001b[0;34m\u001b[0m\u001b[0m\n\u001b[0;32m--> 258\u001b[0;31m             \u001b[0msys\u001b[0m\u001b[0;34m.\u001b[0m\u001b[0mexit\u001b[0m\u001b[0;34m(\u001b[0m\u001b[0;32mnot\u001b[0m \u001b[0mself\u001b[0m\u001b[0;34m.\u001b[0m\u001b[0mresult\u001b[0m\u001b[0;34m.\u001b[0m\u001b[0mwasSuccessful\u001b[0m\u001b[0;34m(\u001b[0m\u001b[0;34m)\u001b[0m\u001b[0;34m)\u001b[0m\u001b[0;34m\u001b[0m\u001b[0;34m\u001b[0m\u001b[0m\n\u001b[0m\u001b[1;32m    259\u001b[0m \u001b[0;34m\u001b[0m\u001b[0m\n\u001b[1;32m    260\u001b[0m \u001b[0mmain\u001b[0m \u001b[0;34m=\u001b[0m \u001b[0mTestProgram\u001b[0m\u001b[0;34m\u001b[0m\u001b[0;34m\u001b[0m\u001b[0m\n",
            "\u001b[0;31mSystemExit\u001b[0m: True"
          ]
        }
      ]
    },
    {
      "cell_type": "code",
      "metadata": {
        "id": "n6XNuyaCBuMU",
        "colab_type": "code",
        "colab": {}
      },
      "source": [
        ""
      ],
      "execution_count": null,
      "outputs": []
    },
    {
      "cell_type": "code",
      "metadata": {
        "id": "zMeKp_9hf2aR",
        "colab_type": "code",
        "colab": {
          "base_uri": "https://localhost:8080/",
          "height": 272
        },
        "outputId": "9a739cc7-ed23-404b-e6de-6e40161ba0c1"
      },
      "source": [
        "\n",
        "class UserList():\n",
        "    \n",
        "    def __init__(self, name):\n",
        "        self.name = name\n",
        "        self.responses = []\n",
        "\n",
        "    def show_name(self):\n",
        "        print(name)\n",
        "\n",
        "    def store_response(self, new_response):\n",
        "        self.responses.append(new_response)\n",
        "\n",
        "    def show_list(self):\n",
        "        print('List:')\n",
        "        for response in self.responses:\n",
        "            print('- ' + response)\n",
        "\n",
        "\n",
        "\n",
        "name = 'leo'\n",
        "my_list = UserList(name)\n",
        "\n",
        "my_list.show_name()\n",
        "print(\"'q' is the magic exit word.\\n\")\n",
        "while True:\n",
        "    i = input('like: ')\n",
        "    if i == 'q':\n",
        "        break\n",
        "    else:\n",
        "        my_list.store_response(i)\n",
        "\n",
        "print('\\nthe list shows ' + name.title() + ' likes many things.')\n",
        "my_list.show_list()\n"
      ],
      "execution_count": null,
      "outputs": [
        {
          "output_type": "stream",
          "text": [
            "leo\n",
            "'q' is the magic exit word.\n",
            "\n",
            "like: a\n",
            "like: b\n",
            "like: c\n",
            "like: d\n",
            "like: q\n",
            "\n",
            "the list shows Leo likes many things.\n",
            "List:\n",
            "- a\n",
            "- b\n",
            "- c\n",
            "- d\n"
          ],
          "name": "stdout"
        }
      ]
    },
    {
      "cell_type": "code",
      "metadata": {
        "id": "8KmClffo9dpI",
        "colab_type": "code",
        "colab": {
          "base_uri": "https://localhost:8080/",
          "height": 119
        },
        "outputId": "93e11eb8-0cb7-4500-d4f0-678d091c6646"
      },
      "source": [
        "import unittest\n",
        "class TestUserList(unittest.TestCase):\n",
        "\n",
        "    def setUp(self):\n",
        "        name = 'leo'\n",
        "        self.my_list = UserList(name)\n",
        "        self.responses = ['a', 'b']\n",
        "\n",
        "    def test_store_single_response(self):\n",
        "        self.my_list.store_response(self.responses[0])\n",
        "        self.assertIn(self.responses[0], self.my_list.responses)\n",
        "\n",
        "    def test_store_two_response(self):\n",
        "        for response in self.responses:\n",
        "            self.my_list.store_response(response)\n",
        "        for response in self.responses:\n",
        "            self.assertIn(response, self.my_list.responses)\n",
        "\n",
        "#unittest.main()\n",
        "unittest.main(argv=['first-arg-is-ignored'], exit=False)"
      ],
      "execution_count": null,
      "outputs": [
        {
          "output_type": "stream",
          "text": [
            "...\n",
            "----------------------------------------------------------------------\n",
            "Ran 3 tests in 0.006s\n",
            "\n",
            "OK\n"
          ],
          "name": "stderr"
        },
        {
          "output_type": "execute_result",
          "data": {
            "text/plain": [
              "<unittest.main.TestProgram at 0x7f0bfe388320>"
            ]
          },
          "metadata": {
            "tags": []
          },
          "execution_count": 28
        }
      ]
    },
    {
      "cell_type": "markdown",
      "metadata": {
        "id": "i5h_EWB3NUPv",
        "colab_type": "text"
      },
      "source": [
        "# **some idea not finished**"
      ]
    },
    {
      "cell_type": "code",
      "metadata": {
        "id": "pr_48BoukQSD",
        "colab_type": "code",
        "colab": {
          "base_uri": "https://localhost:8080/"
        },
        "outputId": "85c83172-d7e2-4d06-fe0f-edeafef5dfb7"
      },
      "source": [
        "from collections import OrderedDict\n",
        "\n",
        "password = OrderedDict()\n",
        "\n",
        "password['A'] = '1234'\n",
        "password['B'] = '12345'\n",
        "password['C'] = '123'\n",
        "\n",
        "def login_in(input_name,input_password):\n",
        "    for name, ps in password.items():\n",
        "        if input_name in name:\n",
        "            if input_password != ps:\n",
        "                print('wrong name or password.')\n",
        "                break\n",
        "            else:\n",
        "                print('login in success.')\n",
        "                break\n",
        "        else:\n",
        "            print('user does not exit.')\n",
        "            break\n",
        "\n",
        "login_in('A','1234')\n",
        "login_in('A','12')\n",
        "login_in('V','12')\n",
        "login_in('B','1234')      "
      ],
      "execution_count": null,
      "outputs": [
        {
          "output_type": "stream",
          "text": [
            "login in success.\n",
            "wrong name or password.\n",
            "user does not exit.\n",
            "user does not exit.\n"
          ],
          "name": "stdout"
        }
      ]
    }
  ]
}